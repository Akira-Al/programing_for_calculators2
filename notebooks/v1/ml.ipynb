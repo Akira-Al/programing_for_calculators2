{
 "cells": [
  {
   "cell_type": "code",
   "execution_count": 1,
   "metadata": {},
   "outputs": [],
   "source": [
    "import numpy as np\n",
    "import pandas as pd\n",
    "import spacy\n",
    "import re\n",
    "import unicodedata\n",
    "from tqdm import tqdm\n",
    "\n",
    "import torch\n",
    "from torch import nn\n",
    "from torch.utils.data import TensorDataset, DataLoader\n",
    "from sklearn.model_selection import train_test_split"
   ]
  },
  {
   "cell_type": "code",
   "execution_count": 38,
   "metadata": {},
   "outputs": [],
   "source": [
    "import matplotlib.pyplot as plt"
   ]
  },
  {
   "cell_type": "code",
   "execution_count": 2,
   "metadata": {},
   "outputs": [],
   "source": [
    "nlp = spacy.load('ja_ginza')"
   ]
  },
  {
   "cell_type": "code",
   "execution_count": 3,
   "metadata": {},
   "outputs": [],
   "source": [
    "train_df = pd.read_csv('../data/train.tsv', sep='\\t')\n",
    "test_df = pd.read_csv('../data/test.tsv', sep='\\t')"
   ]
  },
  {
   "cell_type": "code",
   "execution_count": 4,
   "metadata": {},
   "outputs": [
    {
     "data": {
      "text/html": [
       "<div>\n",
       "<style scoped>\n",
       "    .dataframe tbody tr th:only-of-type {\n",
       "        vertical-align: middle;\n",
       "    }\n",
       "\n",
       "    .dataframe tbody tr th {\n",
       "        vertical-align: top;\n",
       "    }\n",
       "\n",
       "    .dataframe thead th {\n",
       "        text-align: right;\n",
       "    }\n",
       "</style>\n",
       "<table border=\"1\" class=\"dataframe\">\n",
       "  <thead>\n",
       "    <tr style=\"text-align: right;\">\n",
       "      <th></th>\n",
       "      <th>text</th>\n",
       "      <th>label</th>\n",
       "    </tr>\n",
       "  </thead>\n",
       "  <tbody>\n",
       "    <tr>\n",
       "      <th>0</th>\n",
       "      <td>ぼけっとしてたらこんな時間｡チャリあるから食べにでたいのに…</td>\n",
       "      <td>0</td>\n",
       "    </tr>\n",
       "    <tr>\n",
       "      <th>1</th>\n",
       "      <td>今日の月も白くて明るい。昨日より雲が少なくてキレイな? と立ち止まる帰り道｡チャリなし生活も...</td>\n",
       "      <td>3</td>\n",
       "    </tr>\n",
       "    <tr>\n",
       "      <th>2</th>\n",
       "      <td>早寝するつもりが飲み物がなくなりコンビニへ｡ん､今日、風が涼しいな。</td>\n",
       "      <td>1</td>\n",
       "    </tr>\n",
       "    <tr>\n",
       "      <th>3</th>\n",
       "      <td>眠い、眠れない。</td>\n",
       "      <td>0</td>\n",
       "    </tr>\n",
       "    <tr>\n",
       "      <th>4</th>\n",
       "      <td>ただいま? って新体操してるやん!外食する気満々で家に何もないのに!テレビから離れられない…!</td>\n",
       "      <td>2</td>\n",
       "    </tr>\n",
       "    <tr>\n",
       "      <th>...</th>\n",
       "      <td>...</td>\n",
       "      <td>...</td>\n",
       "    </tr>\n",
       "    <tr>\n",
       "      <th>39995</th>\n",
       "      <td>ジョージア移住系ブロガーになるって言っても、月間ボリューム100～1000かいな！</td>\n",
       "      <td>0</td>\n",
       "    </tr>\n",
       "    <tr>\n",
       "      <th>39996</th>\n",
       "      <td>イギリスは6ヶ月未満、ビザなし滞在OK。凄い！</td>\n",
       "      <td>0</td>\n",
       "    </tr>\n",
       "    <tr>\n",
       "      <th>39997</th>\n",
       "      <td>カナダは、6ヶ月以内の観光の場合、ビザなし滞在OK。凄い！</td>\n",
       "      <td>0</td>\n",
       "    </tr>\n",
       "    <tr>\n",
       "      <th>39998</th>\n",
       "      <td>なぜ有料noteが重宝されているのかを解説したいが、需要がないので止めておこう。</td>\n",
       "      <td>0</td>\n",
       "    </tr>\n",
       "    <tr>\n",
       "      <th>39999</th>\n",
       "      <td>ブログの良い所\\n興味ない所は読み飛ばせる\\n\\nたぶんYouTubeもそういう機能が搭載さ...</td>\n",
       "      <td>0</td>\n",
       "    </tr>\n",
       "  </tbody>\n",
       "</table>\n",
       "<p>40000 rows × 2 columns</p>\n",
       "</div>"
      ],
      "text/plain": [
       "                                                    text  label\n",
       "0                         ぼけっとしてたらこんな時間｡チャリあるから食べにでたいのに…      0\n",
       "1      今日の月も白くて明るい。昨日より雲が少なくてキレイな? と立ち止まる帰り道｡チャリなし生活も...      3\n",
       "2                     早寝するつもりが飲み物がなくなりコンビニへ｡ん､今日、風が涼しいな。      1\n",
       "3                                               眠い、眠れない。      0\n",
       "4        ただいま? って新体操してるやん!外食する気満々で家に何もないのに!テレビから離れられない…!      2\n",
       "...                                                  ...    ...\n",
       "39995          ジョージア移住系ブロガーになるって言っても、月間ボリューム100～1000かいな！      0\n",
       "39996                            イギリスは6ヶ月未満、ビザなし滞在OK。凄い！      0\n",
       "39997                      カナダは、6ヶ月以内の観光の場合、ビザなし滞在OK。凄い！      0\n",
       "39998           なぜ有料noteが重宝されているのかを解説したいが、需要がないので止めておこう。      0\n",
       "39999  ブログの良い所\\n興味ない所は読み飛ばせる\\n\\nたぶんYouTubeもそういう機能が搭載さ...      0\n",
       "\n",
       "[40000 rows x 2 columns]"
      ]
     },
     "execution_count": 4,
     "metadata": {},
     "output_type": "execute_result"
    }
   ],
   "source": [
    "train_df"
   ]
  },
  {
   "cell_type": "code",
   "execution_count": 5,
   "metadata": {},
   "outputs": [
    {
     "data": {
      "text/html": [
       "<div>\n",
       "<style scoped>\n",
       "    .dataframe tbody tr th:only-of-type {\n",
       "        vertical-align: middle;\n",
       "    }\n",
       "\n",
       "    .dataframe tbody tr th {\n",
       "        vertical-align: top;\n",
       "    }\n",
       "\n",
       "    .dataframe thead th {\n",
       "        text-align: right;\n",
       "    }\n",
       "</style>\n",
       "<table border=\"1\" class=\"dataframe\">\n",
       "  <thead>\n",
       "    <tr style=\"text-align: right;\">\n",
       "      <th></th>\n",
       "      <th>text</th>\n",
       "      <th>label</th>\n",
       "    </tr>\n",
       "  </thead>\n",
       "  <tbody>\n",
       "    <tr>\n",
       "      <th>0</th>\n",
       "      <td>福岡に移住して、特に不満はない。\\nけれど、慣れて来たので、他の街にも行ってみたくなってきて...</td>\n",
       "      <td>0</td>\n",
       "    </tr>\n",
       "    <tr>\n",
       "      <th>1</th>\n",
       "      <td>うまくいった時の慢心には注意Σ(・∀・；)</td>\n",
       "      <td>0</td>\n",
       "    </tr>\n",
       "    <tr>\n",
       "      <th>2</th>\n",
       "      <td>お金持ちではなかったので、自分でカードゲームを作りだしたりして遊んでいた。\\n\\nその時の楽...</td>\n",
       "      <td>0</td>\n",
       "    </tr>\n",
       "    <tr>\n",
       "      <th>3</th>\n",
       "      <td>飲み屋でしか聞けなかったような話って実はYouTubeで需要がある。</td>\n",
       "      <td>0</td>\n",
       "    </tr>\n",
       "    <tr>\n",
       "      <th>4</th>\n",
       "      <td>①まずやってみる\\n②疑問が出てきてから、その疑問解決のための教材を買う\\n\\n↑教材が高い...</td>\n",
       "      <td>0</td>\n",
       "    </tr>\n",
       "    <tr>\n",
       "      <th>...</th>\n",
       "      <td>...</td>\n",
       "      <td>...</td>\n",
       "    </tr>\n",
       "    <tr>\n",
       "      <th>3195</th>\n",
       "      <td>真夜中にふと思い立ち、ノートPCを持って部屋を出て、ダイニングで仕事したらすんごい捗った。\\...</td>\n",
       "      <td>0</td>\n",
       "    </tr>\n",
       "    <tr>\n",
       "      <th>3196</th>\n",
       "      <td>ぐっどこんでぃしょん。\\n心も頭もクリア。\\n秋分の日のおかげかな？\\n人と自然としっとり過...</td>\n",
       "      <td>1</td>\n",
       "    </tr>\n",
       "    <tr>\n",
       "      <th>3197</th>\n",
       "      <td>朝から免許の更新へ。\\n90分で終わり、出口へ向かうと献血の呼びかけが。\\nみんな通り過ぎて...</td>\n",
       "      <td>2</td>\n",
       "    </tr>\n",
       "    <tr>\n",
       "      <th>3198</th>\n",
       "      <td>夜も更けて参りましたが、食後のコーヒーが飲みたいのでドリップ開始…\\n\\nぼんやり秋の夜長を...</td>\n",
       "      <td>2</td>\n",
       "    </tr>\n",
       "    <tr>\n",
       "      <th>3199</th>\n",
       "      <td>コーヒー休憩（kahavitauko）\\n\\nいつもの豆なのにすごく美味しくできた \\n\\n...</td>\n",
       "      <td>2</td>\n",
       "    </tr>\n",
       "  </tbody>\n",
       "</table>\n",
       "<p>3200 rows × 2 columns</p>\n",
       "</div>"
      ],
      "text/plain": [
       "                                                   text  label\n",
       "0     福岡に移住して、特に不満はない。\\nけれど、慣れて来たので、他の街にも行ってみたくなってきて...      0\n",
       "1                                 うまくいった時の慢心には注意Σ(・∀・；)      0\n",
       "2     お金持ちではなかったので、自分でカードゲームを作りだしたりして遊んでいた。\\n\\nその時の楽...      0\n",
       "3                    飲み屋でしか聞けなかったような話って実はYouTubeで需要がある。      0\n",
       "4     ①まずやってみる\\n②疑問が出てきてから、その疑問解決のための教材を買う\\n\\n↑教材が高い...      0\n",
       "...                                                 ...    ...\n",
       "3195  真夜中にふと思い立ち、ノートPCを持って部屋を出て、ダイニングで仕事したらすんごい捗った。\\...      0\n",
       "3196  ぐっどこんでぃしょん。\\n心も頭もクリア。\\n秋分の日のおかげかな？\\n人と自然としっとり過...      1\n",
       "3197  朝から免許の更新へ。\\n90分で終わり、出口へ向かうと献血の呼びかけが。\\nみんな通り過ぎて...      2\n",
       "3198  夜も更けて参りましたが、食後のコーヒーが飲みたいのでドリップ開始…\\n\\nぼんやり秋の夜長を...      2\n",
       "3199  コーヒー休憩（kahavitauko）\\n\\nいつもの豆なのにすごく美味しくできた \\n\\n...      2\n",
       "\n",
       "[3200 rows x 2 columns]"
      ]
     },
     "execution_count": 5,
     "metadata": {},
     "output_type": "execute_result"
    }
   ],
   "source": [
    "test_df"
   ]
  },
  {
   "cell_type": "code",
   "execution_count": 6,
   "metadata": {},
   "outputs": [],
   "source": [
    "EMBEDDING_DIM = nlp.vocab.vectors_length\n",
    "nlp.vocab.set_vector(\"@pad@\", np.zeros(EMBEDDING_DIM))\n",
    "nlp.vocab.set_vector(\"@unk@\", np.zeros(EMBEDDING_DIM))"
   ]
  },
  {
   "cell_type": "code",
   "execution_count": 7,
   "metadata": {},
   "outputs": [],
   "source": [
    "def preprocess_text(text: str) -> str:\n",
    "  text = unicodedata.normalize(\"NFKC\", text)\n",
    "  text = re.sub(r\"\\s+\", \" \", text)\n",
    "  text = text.lower()\n",
    "  return text\n",
    "\n",
    "def text2seq(text: str, padded_len: int) -> np.ndarray:\n",
    "  doc = nlp(preprocess_text(text))\n",
    "  assert len(doc) <= padded_len\n",
    "  seq = np.zeros(padded_len, dtype=np.int64)\n",
    "  head = padded_len - len(doc)\n",
    "  seq[:head] = nlp.vocab[\"@pad@\"].rank\n",
    "  for i, token in enumerate(doc):\n",
    "    if token.has_vector:\n",
    "      seq[head + i] = token.rank\n",
    "    else:\n",
    "      seq[head + i] = nlp.vocab[\"@unk@\"].rank\n",
    "  return seq"
   ]
  },
  {
   "cell_type": "code",
   "execution_count": 8,
   "metadata": {},
   "outputs": [
    {
     "name": "stderr",
     "output_type": "stream",
     "text": [
      "100%|██████████| 40000/40000 [08:24<00:00, 79.27it/s] \n",
      "100%|██████████| 3200/3200 [00:41<00:00, 76.27it/s] \n"
     ]
    }
   ],
   "source": [
    "PADDED_LEN = 160\n",
    "X_train = np.stack([text2seq(text, PADDED_LEN) for text in tqdm(train_df[\"text\"])])\n",
    "X_test = np.stack([text2seq(text, PADDED_LEN) for text in tqdm(test_df[\"text\"])])"
   ]
  },
  {
   "cell_type": "code",
   "execution_count": 9,
   "metadata": {},
   "outputs": [],
   "source": [
    "X_train = torch.from_numpy(X_train)\n",
    "X_test = torch.from_numpy(X_test)\n",
    "y_train = torch.as_tensor(train_df[\"label\"].values, dtype=torch.int64)\n",
    "y_test = torch.as_tensor(test_df[\"label\"].values, dtype=torch.int64)"
   ]
  },
  {
   "cell_type": "code",
   "execution_count": 10,
   "metadata": {},
   "outputs": [],
   "source": [
    "torch.save(X_train, '../data/X_train.pt')\n",
    "torch.save(X_test, '../data/X_test.pt')\n",
    "torch.save(y_train, '../data/y_train.pt')\n",
    "torch.save(y_test, '../data/y_test.pt')"
   ]
  },
  {
   "cell_type": "code",
   "execution_count": 11,
   "metadata": {},
   "outputs": [],
   "source": [
    "X_train, X_val, y_train, y_val = train_test_split(X_train, y_train, test_size=0.2)"
   ]
  },
  {
   "cell_type": "code",
   "execution_count": 12,
   "metadata": {},
   "outputs": [],
   "source": [
    "train_ds = TensorDataset(X_train, y_train)\n",
    "val_ds = TensorDataset(X_val, y_val)\n",
    "test_ds = TensorDataset(X_test, y_test)"
   ]
  },
  {
   "cell_type": "code",
   "execution_count": 13,
   "metadata": {},
   "outputs": [],
   "source": [
    "VOCAB_SIZE = len(nlp.vocab.vectors)\n",
    "embed_weights = torch.FloatTensor(nlp.vocab.vectors.data)\n",
    "embed = nn.Embedding.from_pretrained(embed_weights, freeze=True)"
   ]
  },
  {
   "cell_type": "code",
   "execution_count": 30,
   "metadata": {},
   "outputs": [],
   "source": [
    "N_CLASSES = 4\n",
    "\n",
    "class LSTMClassfier(nn.Module):\n",
    "  def __init__(self, embed: nn.Embedding, hidden_dim: int):\n",
    "    super().__init__()\n",
    "    self.embed = embed\n",
    "    self.lstm = nn.LSTM(EMBEDDING_DIM, hidden_dim, batch_first=True)\n",
    "    self.linear = nn.Linear(hidden_dim, N_CLASSES)\n",
    "  \n",
    "  def forward(self, x: torch.Tensor) -> torch.Tensor:\n",
    "    x = self.embed(x)\n",
    "    _, (h, _) = self.lstm(x)\n",
    "    return self.linear(h.squeeze(0))"
   ]
  },
  {
   "cell_type": "code",
   "execution_count": 15,
   "metadata": {},
   "outputs": [],
   "source": [
    "device = torch.device(\"cuda\" if torch.cuda.is_available() else \"cpu\")"
   ]
  },
  {
   "cell_type": "code",
   "execution_count": 34,
   "metadata": {},
   "outputs": [],
   "source": [
    "def train(model: nn.Module, dataloader: DataLoader, optimizer: torch.optim.Optimizer, loss_fn: nn.Module) -> tuple[float, float]:\n",
    "  size = len(dataloader.dataset)\n",
    "  num_batches = len(dataloader)\n",
    "  model.train()\n",
    "  train_loss, correct = 0, 0\n",
    "  for i, (X, y) in enumerate(dataloader):\n",
    "    X, y = X.to(device), y.to(device)\n",
    "    # Compute prediction error\n",
    "    optimizer.zero_grad()\n",
    "    y_pred = model(X)\n",
    "    loss = loss_fn(y_pred.squeeze(), y)\n",
    "\n",
    "    train_loss += loss.item()\n",
    "    correct += (y_pred.argmax(1) == y).type(torch.float).sum().item()\n",
    "\n",
    "    # Backpropagation\n",
    "    loss.backward()\n",
    "    optimizer.step()\n",
    "\n",
    "    if i % 100 == 0:\n",
    "      loss, current = loss.item(), (i + 1) * len(X)\n",
    "      print(f\"loss: {loss:>7f}  [{current:>5d}/{size:>5d}]\")\n",
    "  train_loss /= num_batches\n",
    "  correct /= size\n",
    "\n",
    "  return train_loss, correct\n",
    "\n",
    "def test(model: nn.Module, dataloader: DataLoader, loss_fn: nn.Module) -> tuple[float, float]:\n",
    "  size = len(dataloader.dataset)\n",
    "  num_batches = len(dataloader)\n",
    "  model.eval()\n",
    "  test_loss, correct = 0, 0\n",
    "  with torch.no_grad():\n",
    "    for X, y in dataloader:\n",
    "      X, y = X.to(device), y.to(device)\n",
    "      y_pred = model(X)\n",
    "      test_loss += loss_fn(y_pred.squeeze(), y).item()\n",
    "      correct += (y_pred.argmax(1) == y).type(torch.float).sum().item()\n",
    "  test_loss /= num_batches\n",
    "  correct /= size\n",
    "  return test_loss, correct"
   ]
  },
  {
   "cell_type": "code",
   "execution_count": 35,
   "metadata": {},
   "outputs": [],
   "source": [
    "model = LSTMClassfier(embed, 128).to(device)\n",
    "loss_fn = nn.CrossEntropyLoss()\n",
    "optimizer = torch.optim.Adam(model.parameters(), lr=1e-3)"
   ]
  },
  {
   "cell_type": "code",
   "execution_count": 36,
   "metadata": {},
   "outputs": [],
   "source": [
    "train_loader = DataLoader(train_ds, batch_size=32, shuffle=True)\n",
    "val_loader = DataLoader(val_ds, batch_size=32, shuffle=True)"
   ]
  },
  {
   "cell_type": "code",
   "execution_count": 24,
   "metadata": {},
   "outputs": [
    {
     "data": {
      "text/plain": [
       "torch.Size([1, 32, 4])"
      ]
     },
     "execution_count": 24,
     "metadata": {},
     "output_type": "execute_result"
    }
   ],
   "source": [
    "X, y = next(iter(train_loader))\n",
    "y_pred = model(X)\n",
    "y_pred.shape"
   ]
  },
  {
   "cell_type": "code",
   "execution_count": 25,
   "metadata": {},
   "outputs": [
    {
     "data": {
      "text/plain": [
       "torch.Size([32, 160])"
      ]
     },
     "execution_count": 25,
     "metadata": {},
     "output_type": "execute_result"
    }
   ],
   "source": [
    "X.shape"
   ]
  },
  {
   "cell_type": "code",
   "execution_count": 29,
   "metadata": {},
   "outputs": [
    {
     "name": "stdout",
     "output_type": "stream",
     "text": [
      "torch.Size([32, 160, 300])\n",
      "torch.Size([1, 32, 128])\n",
      "torch.Size([1, 32, 4])\n"
     ]
    }
   ],
   "source": [
    "with torch.no_grad():\n",
    "  x = model.embed(X)\n",
    "  print(x.shape)\n",
    "  _, (h, _) = model.lstm(x)\n",
    "  print(h.shape)\n",
    "  y_pred = model.linear(h)\n",
    "  print(y_pred.shape)"
   ]
  },
  {
   "cell_type": "code",
   "execution_count": 37,
   "metadata": {},
   "outputs": [
    {
     "name": "stdout",
     "output_type": "stream",
     "text": [
      "Epoch 1\n",
      "-------------------------------\n",
      "loss: 1.386708  [   32/32000]\n",
      "loss: 1.162359  [ 3232/32000]\n",
      "loss: 1.144235  [ 6432/32000]\n",
      "loss: 1.194499  [ 9632/32000]\n",
      "loss: 0.846555  [12832/32000]\n",
      "loss: 1.142679  [16032/32000]\n",
      "loss: 0.901681  [19232/32000]\n",
      "loss: 1.037951  [22432/32000]\n",
      "loss: 0.956357  [25632/32000]\n",
      "loss: 0.991982  [28832/32000]\n",
      "Epoch Summary:\n",
      "train_loss: 1.049756, val_loss: 1.009792\n",
      "train_accuracy: 0.599781, val_accuracy: 0.611375\n",
      "Epoch 2\n",
      "-------------------------------\n",
      "loss: 0.776479  [   32/32000]\n",
      "loss: 1.140560  [ 3232/32000]\n",
      "loss: 0.788164  [ 6432/32000]\n",
      "loss: 1.147479  [ 9632/32000]\n",
      "loss: 1.095516  [12832/32000]\n",
      "loss: 1.088614  [16032/32000]\n",
      "loss: 1.004690  [19232/32000]\n",
      "loss: 0.720584  [22432/32000]\n",
      "loss: 0.889550  [25632/32000]\n",
      "loss: 1.207627  [28832/32000]\n",
      "Epoch Summary:\n",
      "train_loss: 1.000242, val_loss: 0.998923\n",
      "train_accuracy: 0.612969, val_accuracy: 0.613500\n",
      "Epoch 3\n",
      "-------------------------------\n",
      "loss: 0.968534  [   32/32000]\n",
      "loss: 0.803001  [ 3232/32000]\n",
      "loss: 1.058530  [ 6432/32000]\n",
      "loss: 1.128488  [ 9632/32000]\n",
      "loss: 1.401760  [12832/32000]\n",
      "loss: 0.962597  [16032/32000]\n",
      "loss: 0.744657  [19232/32000]\n",
      "loss: 1.068567  [22432/32000]\n",
      "loss: 1.070370  [25632/32000]\n",
      "loss: 1.104827  [28832/32000]\n",
      "Epoch Summary:\n",
      "train_loss: 0.977310, val_loss: 0.982892\n",
      "train_accuracy: 0.621719, val_accuracy: 0.618750\n",
      "Epoch 4\n",
      "-------------------------------\n",
      "loss: 1.333018  [   32/32000]\n",
      "loss: 0.933824  [ 3232/32000]\n",
      "loss: 0.944760  [ 6432/32000]\n",
      "loss: 0.953763  [ 9632/32000]\n",
      "loss: 0.971661  [12832/32000]\n",
      "loss: 1.009775  [16032/32000]\n",
      "loss: 0.798996  [19232/32000]\n",
      "loss: 1.221452  [22432/32000]\n",
      "loss: 1.051347  [25632/32000]\n",
      "loss: 0.973975  [28832/32000]\n",
      "Epoch Summary:\n",
      "train_loss: 0.957381, val_loss: 0.991798\n",
      "train_accuracy: 0.627906, val_accuracy: 0.618375\n",
      "Epoch 5\n",
      "-------------------------------\n",
      "loss: 1.129136  [   32/32000]\n",
      "loss: 0.749279  [ 3232/32000]\n",
      "loss: 0.774504  [ 6432/32000]\n",
      "loss: 0.881309  [ 9632/32000]\n",
      "loss: 1.051393  [12832/32000]\n",
      "loss: 0.948338  [16032/32000]\n",
      "loss: 1.004460  [19232/32000]\n",
      "loss: 1.007622  [22432/32000]\n",
      "loss: 1.282724  [25632/32000]\n",
      "loss: 1.051130  [28832/32000]\n",
      "Epoch Summary:\n",
      "train_loss: 0.937712, val_loss: 0.983804\n",
      "train_accuracy: 0.636156, val_accuracy: 0.616125\n",
      "Epoch 6\n",
      "-------------------------------\n",
      "loss: 0.915292  [   32/32000]\n",
      "loss: 1.047194  [ 3232/32000]\n",
      "loss: 0.785619  [ 6432/32000]\n",
      "loss: 0.952502  [ 9632/32000]\n",
      "loss: 0.964844  [12832/32000]\n",
      "loss: 0.877674  [16032/32000]\n",
      "loss: 0.700201  [19232/32000]\n",
      "loss: 1.225890  [22432/32000]\n",
      "loss: 0.845504  [25632/32000]\n",
      "loss: 0.904243  [28832/32000]\n",
      "Epoch Summary:\n",
      "train_loss: 0.913287, val_loss: 0.990336\n",
      "train_accuracy: 0.645406, val_accuracy: 0.616500\n",
      "Epoch 7\n",
      "-------------------------------\n",
      "loss: 1.007347  [   32/32000]\n",
      "loss: 0.901342  [ 3232/32000]\n",
      "loss: 0.828430  [ 6432/32000]\n",
      "loss: 0.743479  [ 9632/32000]\n",
      "loss: 0.834074  [12832/32000]\n",
      "loss: 1.191088  [16032/32000]\n",
      "loss: 0.818338  [19232/32000]\n",
      "loss: 1.082144  [22432/32000]\n",
      "loss: 0.842478  [25632/32000]\n",
      "loss: 0.841727  [28832/32000]\n",
      "Epoch Summary:\n",
      "train_loss: 0.885919, val_loss: 0.995277\n",
      "train_accuracy: 0.656000, val_accuracy: 0.614000\n",
      "Epoch 8\n",
      "-------------------------------\n",
      "loss: 0.776233  [   32/32000]\n",
      "loss: 0.812267  [ 3232/32000]\n",
      "loss: 1.072836  [ 6432/32000]\n",
      "loss: 0.839276  [ 9632/32000]\n",
      "loss: 0.630188  [12832/32000]\n",
      "loss: 0.719033  [16032/32000]\n",
      "loss: 0.838978  [19232/32000]\n",
      "loss: 0.737746  [22432/32000]\n",
      "loss: 1.016709  [25632/32000]\n",
      "loss: 0.615423  [28832/32000]\n",
      "Epoch Summary:\n",
      "train_loss: 0.849701, val_loss: 1.016922\n",
      "train_accuracy: 0.672250, val_accuracy: 0.612125\n",
      "Epoch 9\n",
      "-------------------------------\n",
      "loss: 0.775912  [   32/32000]\n",
      "loss: 0.918898  [ 3232/32000]\n",
      "loss: 0.912755  [ 6432/32000]\n",
      "loss: 0.835353  [ 9632/32000]\n",
      "loss: 0.808629  [12832/32000]\n",
      "loss: 0.662051  [16032/32000]\n",
      "loss: 0.808745  [19232/32000]\n",
      "loss: 0.844687  [22432/32000]\n",
      "loss: 0.524312  [25632/32000]\n",
      "loss: 0.739358  [28832/32000]\n",
      "Epoch Summary:\n",
      "train_loss: 0.809784, val_loss: 1.057920\n",
      "train_accuracy: 0.688094, val_accuracy: 0.607500\n",
      "Epoch 10\n",
      "-------------------------------\n",
      "loss: 0.817637  [   32/32000]\n",
      "loss: 0.614231  [ 3232/32000]\n",
      "loss: 0.803726  [ 6432/32000]\n",
      "loss: 0.721264  [ 9632/32000]\n",
      "loss: 0.560843  [12832/32000]\n",
      "loss: 0.776862  [16032/32000]\n",
      "loss: 0.893937  [19232/32000]\n",
      "loss: 0.850600  [22432/32000]\n",
      "loss: 0.656277  [25632/32000]\n",
      "loss: 0.521463  [28832/32000]\n",
      "Epoch Summary:\n",
      "train_loss: 0.787897, val_loss: 1.070191\n",
      "train_accuracy: 0.697562, val_accuracy: 0.602250\n"
     ]
    }
   ],
   "source": [
    "N_EPOCHS = 10\n",
    "hist = {\"train_loss\": [], \"train_accuracy\": [], \"val_loss\": [], \"val_accuracy\": []}\n",
    "for t in range(N_EPOCHS):\n",
    "  print(f\"Epoch {t+1}\\n-------------------------------\")\n",
    "  train_loss, train_accuracy = train(model, train_loader, optimizer, loss_fn)\n",
    "  val_loss, val_accuracy = test(model, val_loader, loss_fn)\n",
    "\n",
    "  hist[\"train_loss\"].append(train_loss)\n",
    "  hist[\"train_accuracy\"].append(train_accuracy)\n",
    "  hist[\"val_loss\"].append(val_loss)\n",
    "  hist[\"val_accuracy\"].append(val_accuracy)\n",
    "\n",
    "  print(\"Epoch Summary:\")\n",
    "  print(f\"train_loss: {train_loss:>7f}, val_loss: {val_loss:>7f}\")\n",
    "  print(f\"train_accuracy: {train_accuracy:>7f}, val_accuracy: {val_accuracy:>7f}\")"
   ]
  },
  {
   "cell_type": "code",
   "execution_count": 39,
   "metadata": {},
   "outputs": [
    {
     "data": {
      "image/png": "[encoded data removed]",
      "text/plain": [
       "<Figure size 640x480 with 1 Axes>"
      ]
     },
     "metadata": {},
     "output_type": "display_data"
    }
   ],
   "source": [
    "plt.plot(hist[\"train_loss\"], label=\"train_loss\")\n",
    "plt.plot(hist[\"val_loss\"], label=\"val_loss\")\n",
    "plt.title(\"Loss\")\n",
    "plt.legend()\n",
    "plt.xlabel(\"epoch\")\n",
    "plt.ylabel(\"loss\")\n",
    "plt.show()"
   ]
  },
  {
   "cell_type": "code",
   "execution_count": 40,
   "metadata": {},
   "outputs": [
    {
     "data": {
      "image/png": "[encoded data removed]",
      "text/plain": [
       "<Figure size 640x480 with 1 Axes>"
      ]
     },
     "metadata": {},
     "output_type": "display_data"
    }
   ],
   "source": [
    "plt.plot(hist[\"train_accuracy\"], label=\"train_accuracy\")\n",
    "plt.plot(hist[\"val_accuracy\"], label=\"val_accuracy\")\n",
    "plt.title(\"Accuracy\")\n",
    "plt.legend()\n",
    "plt.xlabel(\"epoch\")\n",
    "plt.ylabel(\"accuracy\")\n",
    "plt.show()"
   ]
  },
  {
   "cell_type": "code",
   "execution_count": null,
   "metadata": {},
   "outputs": [],
   "source": []
  }
 ],
 "metadata": {
  "kernelspec": {
   "display_name": "venv",
   "language": "python",
   "name": "python3"
  },
  "language_info": {
   "codemirror_mode": {
    "name": "ipython",
    "version": 3
   },
   "file_extension": ".py",
   "mimetype": "text/x-python",
   "name": "python",
   "nbconvert_exporter": "python",
   "pygments_lexer": "ipython3",
   "version": "3.11.0rc1"
  }
 },
 "nbformat": 4,
 "nbformat_minor": 2
}
