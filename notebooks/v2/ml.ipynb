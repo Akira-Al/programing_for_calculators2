{
 "cells": [
  {
   "cell_type": "code",
   "execution_count": 1,
   "metadata": {},
   "outputs": [],
   "source": [
    "import numpy as np\n",
    "import matplotlib.pyplot as plt\n",
    "import pandas as pd\n",
    "from gensim.models import KeyedVectors\n",
    "from janome.tokenizer import Tokenizer\n",
    "from sklearn.model_selection import train_test_split\n",
    "from tqdm import tqdm\n",
    "import torch\n",
    "from torch import nn\n",
    "from torch.utils.data import TensorDataset, DataLoader"
   ]
  },
  {
   "cell_type": "code",
   "execution_count": 2,
   "metadata": {},
   "outputs": [],
   "source": [
    "tokenizer = Tokenizer()"
   ]
  },
  {
   "cell_type": "code",
   "execution_count": 3,
   "metadata": {},
   "outputs": [],
   "source": [
    "chive = KeyedVectors.load(\n",
    "    \"../../data/v2/chive-1.1-mc5-aunit_gensim/chive-1.1-mc5-aunit.kv\"\n",
    ")"
   ]
  },
  {
   "cell_type": "code",
   "execution_count": 11,
   "metadata": {},
   "outputs": [],
   "source": [
    "train_df_raw = pd.read_csv(\"../../data/v2/train.tsv\", sep=\"\\t\")\n",
    "val_df_raw = pd.read_csv(\"../../data/v2/val.tsv\", sep=\"\\t\")"
   ]
  },
  {
   "cell_type": "code",
   "execution_count": 12,
   "metadata": {},
   "outputs": [
    {
     "data": {
      "text/html": [
       "<div>\n",
       "<style scoped>\n",
       "    .dataframe tbody tr th:only-of-type {\n",
       "        vertical-align: middle;\n",
       "    }\n",
       "\n",
       "    .dataframe tbody tr th {\n",
       "        vertical-align: top;\n",
       "    }\n",
       "\n",
       "    .dataframe thead th {\n",
       "        text-align: right;\n",
       "    }\n",
       "</style>\n",
       "<table border=\"1\" class=\"dataframe\">\n",
       "  <thead>\n",
       "    <tr style=\"text-align: right;\">\n",
       "      <th></th>\n",
       "      <th>text</th>\n",
       "      <th>label</th>\n",
       "    </tr>\n",
       "  </thead>\n",
       "  <tbody>\n",
       "    <tr>\n",
       "      <th>0</th>\n",
       "      <td>ぼけっとしてたらこんな時間 チャリあるから食べにでたいのに</td>\n",
       "      <td>n</td>\n",
       "    </tr>\n",
       "    <tr>\n",
       "      <th>1</th>\n",
       "      <td>今日の月も白くて明るい 昨日より雲が少なくてキレイな と立ち止まる帰り道 チャリなし生活も悪くない</td>\n",
       "      <td>p</td>\n",
       "    </tr>\n",
       "    <tr>\n",
       "      <th>2</th>\n",
       "      <td>早寝するつもりが飲み物がなくなりコンビニへ ん 今日 風が涼しいな</td>\n",
       "      <td>p</td>\n",
       "    </tr>\n",
       "    <tr>\n",
       "      <th>3</th>\n",
       "      <td>眠い 眠れない</td>\n",
       "      <td>n</td>\n",
       "    </tr>\n",
       "    <tr>\n",
       "      <th>4</th>\n",
       "      <td>ただいま って新体操してるやん 外食する気満々で家に何もないのに テレビから離れられない</td>\n",
       "      <td>p</td>\n",
       "    </tr>\n",
       "    <tr>\n",
       "      <th>...</th>\n",
       "      <td>...</td>\n",
       "      <td>...</td>\n",
       "    </tr>\n",
       "    <tr>\n",
       "      <th>43195</th>\n",
       "      <td>真夜中にふと思い立ち ノートpcを持って部屋を出て ダイニングで仕事したらすんごい捗った 環...</td>\n",
       "      <td>p</td>\n",
       "    </tr>\n",
       "    <tr>\n",
       "      <th>43196</th>\n",
       "      <td>ぐっどこんでぃしょん 心も頭もクリア 秋分の日のおかげかな 人と自然としっとり過ごしたい気分</td>\n",
       "      <td>p</td>\n",
       "    </tr>\n",
       "    <tr>\n",
       "      <th>43197</th>\n",
       "      <td>朝から免許の更新へ 0分で終わり 出口へ向かうと献血の呼びかけが みんな通り過ぎていく 献血...</td>\n",
       "      <td>p</td>\n",
       "    </tr>\n",
       "    <tr>\n",
       "      <th>43198</th>\n",
       "      <td>夜も更けて参りましたが 食後のコーヒーが飲みたいのでドリップ開始 ぼんやり秋の夜長を楽しみた...</td>\n",
       "      <td>p</td>\n",
       "    </tr>\n",
       "    <tr>\n",
       "      <th>43199</th>\n",
       "      <td>コーヒー休憩 kahavitauko いつもの豆なのにすごく美味しくできた レシピは記録したv</td>\n",
       "      <td>p</td>\n",
       "    </tr>\n",
       "  </tbody>\n",
       "</table>\n",
       "<p>43200 rows × 2 columns</p>\n",
       "</div>"
      ],
      "text/plain": [
       "                                                    text label\n",
       "0                          ぼけっとしてたらこんな時間 チャリあるから食べにでたいのに     n\n",
       "1      今日の月も白くて明るい 昨日より雲が少なくてキレイな と立ち止まる帰り道 チャリなし生活も悪くない     p\n",
       "2                      早寝するつもりが飲み物がなくなりコンビニへ ん 今日 風が涼しいな     p\n",
       "3                                                眠い 眠れない     n\n",
       "4           ただいま って新体操してるやん 外食する気満々で家に何もないのに テレビから離れられない     p\n",
       "...                                                  ...   ...\n",
       "43195  真夜中にふと思い立ち ノートpcを持って部屋を出て ダイニングで仕事したらすんごい捗った 環...     p\n",
       "43196     ぐっどこんでぃしょん 心も頭もクリア 秋分の日のおかげかな 人と自然としっとり過ごしたい気分     p\n",
       "43197  朝から免許の更新へ 0分で終わり 出口へ向かうと献血の呼びかけが みんな通り過ぎていく 献血...     p\n",
       "43198  夜も更けて参りましたが 食後のコーヒーが飲みたいのでドリップ開始 ぼんやり秋の夜長を楽しみた...     p\n",
       "43199    コーヒー休憩 kahavitauko いつもの豆なのにすごく美味しくできた レシピは記録したv     p\n",
       "\n",
       "[43200 rows x 2 columns]"
      ]
     },
     "execution_count": 12,
     "metadata": {},
     "output_type": "execute_result"
    }
   ],
   "source": [
    "df = pd.concat([train_df_raw, val_df_raw], axis=0)\n",
    "df = df.reset_index(drop=True)\n",
    "df"
   ]
  },
  {
   "cell_type": "code",
   "execution_count": 9,
   "metadata": {},
   "outputs": [
    {
     "data": {
      "text/html": [
       "<div>\n",
       "<style scoped>\n",
       "    .dataframe tbody tr th:only-of-type {\n",
       "        vertical-align: middle;\n",
       "    }\n",
       "\n",
       "    .dataframe tbody tr th {\n",
       "        vertical-align: top;\n",
       "    }\n",
       "\n",
       "    .dataframe thead th {\n",
       "        text-align: right;\n",
       "    }\n",
       "</style>\n",
       "<table border=\"1\" class=\"dataframe\">\n",
       "  <thead>\n",
       "    <tr style=\"text-align: right;\">\n",
       "      <th></th>\n",
       "      <th>label</th>\n",
       "      <th>text</th>\n",
       "    </tr>\n",
       "  </thead>\n",
       "  <tbody>\n",
       "    <tr>\n",
       "      <th>0</th>\n",
       "      <td>n</td>\n",
       "      <td>雨が降ってるから気分が落ち込む。早く晴れてほしいな。</td>\n",
       "    </tr>\n",
       "    <tr>\n",
       "      <th>1</th>\n",
       "      <td>p</td>\n",
       "      <td>友達と映画を見に行ったけど、感動して泣いちゃった。</td>\n",
       "    </tr>\n",
       "    <tr>\n",
       "      <th>2</th>\n",
       "      <td>p</td>\n",
       "      <td>新しい仕事が始まって緊張するけど、頑張りたい。</td>\n",
       "    </tr>\n",
       "    <tr>\n",
       "      <th>3</th>\n",
       "      <td>p</td>\n",
       "      <td>美味しいケーキを食べて、幸せな気持ちになった。</td>\n",
       "    </tr>\n",
       "    <tr>\n",
       "      <th>4</th>\n",
       "      <td>n</td>\n",
       "      <td>ペットが病気になって心配でたまらない。早く元気になって。</td>\n",
       "    </tr>\n",
       "    <tr>\n",
       "      <th>...</th>\n",
       "      <td>...</td>\n",
       "      <td>...</td>\n",
       "    </tr>\n",
       "    <tr>\n",
       "      <th>135</th>\n",
       "      <td>p</td>\n",
       "      <td>試合に勝って、チーム全員で喜んだ。</td>\n",
       "    </tr>\n",
       "    <tr>\n",
       "      <th>136</th>\n",
       "      <td>p</td>\n",
       "      <td>猫と一緒に過ごす時間が一番の癒し。</td>\n",
       "    </tr>\n",
       "    <tr>\n",
       "      <th>137</th>\n",
       "      <td>p</td>\n",
       "      <td>今日は特に何もない一日だったけど、それも悪くない。</td>\n",
       "    </tr>\n",
       "    <tr>\n",
       "      <th>138</th>\n",
       "      <td>p</td>\n",
       "      <td>新しいゲームを始めて、ハマってしまった。</td>\n",
       "    </tr>\n",
       "    <tr>\n",
       "      <th>139</th>\n",
       "      <td>p</td>\n",
       "      <td>友達の結婚式に参加して、幸せな気持ちになった。</td>\n",
       "    </tr>\n",
       "  </tbody>\n",
       "</table>\n",
       "<p>140 rows × 2 columns</p>\n",
       "</div>"
      ],
      "text/plain": [
       "    label                          text\n",
       "0       n    雨が降ってるから気分が落ち込む。早く晴れてほしいな。\n",
       "1       p     友達と映画を見に行ったけど、感動して泣いちゃった。\n",
       "2       p       新しい仕事が始まって緊張するけど、頑張りたい。\n",
       "3       p       美味しいケーキを食べて、幸せな気持ちになった。\n",
       "4       n  ペットが病気になって心配でたまらない。早く元気になって。\n",
       "..    ...                           ...\n",
       "135     p             試合に勝って、チーム全員で喜んだ。\n",
       "136     p             猫と一緒に過ごす時間が一番の癒し。\n",
       "137     p     今日は特に何もない一日だったけど、それも悪くない。\n",
       "138     p          新しいゲームを始めて、ハマってしまった。\n",
       "139     p       友達の結婚式に参加して、幸せな気持ちになった。\n",
       "\n",
       "[140 rows x 2 columns]"
      ]
     },
     "execution_count": 9,
     "metadata": {},
     "output_type": "execute_result"
    }
   ],
   "source": [
    "data_df = pd.read_csv(\"../../data/data_ans.txt\", sep=\" \", header=None)\n",
    "data_df.columns = [\"label\", \"text\"]\n",
    "data_df"
   ]
  },
  {
   "cell_type": "code",
   "execution_count": 4,
   "metadata": {},
   "outputs": [],
   "source": [
    "def text2seq(text: str, padded_len: int) -> np.ndarray:\n",
    "    tokens = list(tokenizer.tokenize(str(text)))\n",
    "    assert len(tokens) <= padded_len\n",
    "    seq = np.zeros(padded_len, dtype=np.int64)\n",
    "    head = padded_len - len(tokens)\n",
    "    seq[:head] = 0\n",
    "    for i, token in enumerate(tokens):\n",
    "        if token.base_form in chive:\n",
    "            seq[head + i] = chive.key_to_index[token.base_form] + 2\n",
    "        else:\n",
    "            seq[head + i] = 1\n",
    "    return seq"
   ]
  },
  {
   "cell_type": "code",
   "execution_count": 8,
   "metadata": {},
   "outputs": [
    {
     "data": {
      "text/plain": [
       "array([  0,   0,   0,   0,   0,   0,  65,   9, 570,  17], dtype=int64)"
      ]
     },
     "execution_count": 8,
     "metadata": {},
     "output_type": "execute_result"
    }
   ],
   "source": [
    "text2seq(\"私は猫です\", 10)"
   ]
  },
  {
   "cell_type": "code",
   "execution_count": 9,
   "metadata": {},
   "outputs": [
    {
     "name": "stderr",
     "output_type": "stream",
     "text": [
      "100%|██████████| 43200/43200 [00:49<00:00, 873.68it/s] \n"
     ]
    },
    {
     "data": {
      "text/plain": [
       "124"
      ]
     },
     "execution_count": 9,
     "metadata": {},
     "output_type": "execute_result"
    }
   ],
   "source": [
    "max_len = 0\n",
    "for text in tqdm(df[\"text\"]):\n",
    "    max_len = max(max_len, len(list(tokenizer.tokenize(str(text)))))\n",
    "max_len"
   ]
  },
  {
   "cell_type": "code",
   "execution_count": 10,
   "metadata": {},
   "outputs": [
    {
     "name": "stderr",
     "output_type": "stream",
     "text": [
      "100%|██████████| 140/140 [00:00<00:00, 1488.28it/s]\n"
     ]
    },
    {
     "data": {
      "text/plain": [
       "19"
      ]
     },
     "execution_count": 10,
     "metadata": {},
     "output_type": "execute_result"
    }
   ],
   "source": [
    "max_len_data = 0\n",
    "for text in tqdm(data_df[\"text\"]):\n",
    "    max_len_data = max(max_len_data, len(list(tokenizer.tokenize(str(text)))))\n",
    "max_len_data"
   ]
  },
  {
   "cell_type": "code",
   "execution_count": 17,
   "metadata": {},
   "outputs": [],
   "source": [
    "PADDED_LEN = 128"
   ]
  },
  {
   "cell_type": "code",
   "execution_count": 11,
   "metadata": {},
   "outputs": [
    {
     "name": "stderr",
     "output_type": "stream",
     "text": [
      "100%|██████████| 43200/43200 [00:53<00:00, 803.71it/s] \n"
     ]
    }
   ],
   "source": [
    "X = np.stack([text2seq(text, PADDED_LEN) for text in tqdm(df[\"text\"])])"
   ]
  },
  {
   "cell_type": "code",
   "execution_count": 13,
   "metadata": {},
   "outputs": [
    {
     "data": {
      "text/html": [
       "<div>\n",
       "<style scoped>\n",
       "    .dataframe tbody tr th:only-of-type {\n",
       "        vertical-align: middle;\n",
       "    }\n",
       "\n",
       "    .dataframe tbody tr th {\n",
       "        vertical-align: top;\n",
       "    }\n",
       "\n",
       "    .dataframe thead th {\n",
       "        text-align: right;\n",
       "    }\n",
       "</style>\n",
       "<table border=\"1\" class=\"dataframe\">\n",
       "  <thead>\n",
       "    <tr style=\"text-align: right;\">\n",
       "      <th></th>\n",
       "      <th>text</th>\n",
       "      <th>label</th>\n",
       "    </tr>\n",
       "  </thead>\n",
       "  <tbody>\n",
       "    <tr>\n",
       "      <th>0</th>\n",
       "      <td>ぼけっとしてたらこんな時間 チャリあるから食べにでたいのに</td>\n",
       "      <td>0</td>\n",
       "    </tr>\n",
       "    <tr>\n",
       "      <th>1</th>\n",
       "      <td>今日の月も白くて明るい 昨日より雲が少なくてキレイな と立ち止まる帰り道 チャリなし生活も悪くない</td>\n",
       "      <td>1</td>\n",
       "    </tr>\n",
       "    <tr>\n",
       "      <th>2</th>\n",
       "      <td>早寝するつもりが飲み物がなくなりコンビニへ ん 今日 風が涼しいな</td>\n",
       "      <td>1</td>\n",
       "    </tr>\n",
       "    <tr>\n",
       "      <th>3</th>\n",
       "      <td>眠い 眠れない</td>\n",
       "      <td>0</td>\n",
       "    </tr>\n",
       "    <tr>\n",
       "      <th>4</th>\n",
       "      <td>ただいま って新体操してるやん 外食する気満々で家に何もないのに テレビから離れられない</td>\n",
       "      <td>1</td>\n",
       "    </tr>\n",
       "    <tr>\n",
       "      <th>...</th>\n",
       "      <td>...</td>\n",
       "      <td>...</td>\n",
       "    </tr>\n",
       "    <tr>\n",
       "      <th>43195</th>\n",
       "      <td>真夜中にふと思い立ち ノートpcを持って部屋を出て ダイニングで仕事したらすんごい捗った 環...</td>\n",
       "      <td>1</td>\n",
       "    </tr>\n",
       "    <tr>\n",
       "      <th>43196</th>\n",
       "      <td>ぐっどこんでぃしょん 心も頭もクリア 秋分の日のおかげかな 人と自然としっとり過ごしたい気分</td>\n",
       "      <td>1</td>\n",
       "    </tr>\n",
       "    <tr>\n",
       "      <th>43197</th>\n",
       "      <td>朝から免許の更新へ 0分で終わり 出口へ向かうと献血の呼びかけが みんな通り過ぎていく 献血...</td>\n",
       "      <td>1</td>\n",
       "    </tr>\n",
       "    <tr>\n",
       "      <th>43198</th>\n",
       "      <td>夜も更けて参りましたが 食後のコーヒーが飲みたいのでドリップ開始 ぼんやり秋の夜長を楽しみた...</td>\n",
       "      <td>1</td>\n",
       "    </tr>\n",
       "    <tr>\n",
       "      <th>43199</th>\n",
       "      <td>コーヒー休憩 kahavitauko いつもの豆なのにすごく美味しくできた レシピは記録したv</td>\n",
       "      <td>1</td>\n",
       "    </tr>\n",
       "  </tbody>\n",
       "</table>\n",
       "<p>43200 rows × 2 columns</p>\n",
       "</div>"
      ],
      "text/plain": [
       "                                                    text  label\n",
       "0                          ぼけっとしてたらこんな時間 チャリあるから食べにでたいのに      0\n",
       "1      今日の月も白くて明るい 昨日より雲が少なくてキレイな と立ち止まる帰り道 チャリなし生活も悪くない      1\n",
       "2                      早寝するつもりが飲み物がなくなりコンビニへ ん 今日 風が涼しいな      1\n",
       "3                                                眠い 眠れない      0\n",
       "4           ただいま って新体操してるやん 外食する気満々で家に何もないのに テレビから離れられない      1\n",
       "...                                                  ...    ...\n",
       "43195  真夜中にふと思い立ち ノートpcを持って部屋を出て ダイニングで仕事したらすんごい捗った 環...      1\n",
       "43196     ぐっどこんでぃしょん 心も頭もクリア 秋分の日のおかげかな 人と自然としっとり過ごしたい気分      1\n",
       "43197  朝から免許の更新へ 0分で終わり 出口へ向かうと献血の呼びかけが みんな通り過ぎていく 献血...      1\n",
       "43198  夜も更けて参りましたが 食後のコーヒーが飲みたいのでドリップ開始 ぼんやり秋の夜長を楽しみた...      1\n",
       "43199    コーヒー休憩 kahavitauko いつもの豆なのにすごく美味しくできた レシピは記録したv      1\n",
       "\n",
       "[43200 rows x 2 columns]"
      ]
     },
     "execution_count": 13,
     "metadata": {},
     "output_type": "execute_result"
    }
   ],
   "source": [
    "df[\"label\"] = df[\"label\"].map({\"n\": 0, \"p\": 1})\n",
    "df"
   ]
  },
  {
   "cell_type": "code",
   "execution_count": 13,
   "metadata": {},
   "outputs": [],
   "source": [
    "X = torch.tensor(X)\n",
    "y = torch.tensor(df[\"label\"].values, dtype=torch.int64)"
   ]
  },
  {
   "cell_type": "code",
   "execution_count": 14,
   "metadata": {},
   "outputs": [],
   "source": [
    "random_state = 42\n",
    "X_train, X_val, y_train, y_val = train_test_split(\n",
    "    X, y, test_size=0.2, random_state=random_state\n",
    ")"
   ]
  },
  {
   "cell_type": "code",
   "execution_count": 15,
   "metadata": {},
   "outputs": [],
   "source": [
    "train_ds = TensorDataset(X_train, y_train)\n",
    "val_ds = TensorDataset(X_val, y_val)"
   ]
  },
  {
   "cell_type": "code",
   "execution_count": 16,
   "metadata": {},
   "outputs": [],
   "source": [
    "torch.save(train_ds, \"../../data/v2/train_ds.pth\")\n",
    "torch.save(val_ds, \"../../data/v2/val_ds.pth\")"
   ]
  },
  {
   "cell_type": "code",
   "execution_count": 14,
   "metadata": {},
   "outputs": [
    {
     "data": {
      "text/plain": [
       "label\n",
       "p    105\n",
       "n     35\n",
       "Name: count, dtype: int64"
      ]
     },
     "execution_count": 14,
     "metadata": {},
     "output_type": "execute_result"
    }
   ],
   "source": [
    "data_df[\"label\"].value_counts()"
   ]
  },
  {
   "cell_type": "code",
   "execution_count": 15,
   "metadata": {},
   "outputs": [
    {
     "data": {
      "text/html": [
       "<div>\n",
       "<style scoped>\n",
       "    .dataframe tbody tr th:only-of-type {\n",
       "        vertical-align: middle;\n",
       "    }\n",
       "\n",
       "    .dataframe tbody tr th {\n",
       "        vertical-align: top;\n",
       "    }\n",
       "\n",
       "    .dataframe thead th {\n",
       "        text-align: right;\n",
       "    }\n",
       "</style>\n",
       "<table border=\"1\" class=\"dataframe\">\n",
       "  <thead>\n",
       "    <tr style=\"text-align: right;\">\n",
       "      <th></th>\n",
       "      <th>label</th>\n",
       "      <th>text</th>\n",
       "    </tr>\n",
       "  </thead>\n",
       "  <tbody>\n",
       "    <tr>\n",
       "      <th>0</th>\n",
       "      <td>0</td>\n",
       "      <td>雨が降ってるから気分が落ち込む。早く晴れてほしいな。</td>\n",
       "    </tr>\n",
       "    <tr>\n",
       "      <th>1</th>\n",
       "      <td>1</td>\n",
       "      <td>友達と映画を見に行ったけど、感動して泣いちゃった。</td>\n",
       "    </tr>\n",
       "    <tr>\n",
       "      <th>2</th>\n",
       "      <td>1</td>\n",
       "      <td>新しい仕事が始まって緊張するけど、頑張りたい。</td>\n",
       "    </tr>\n",
       "    <tr>\n",
       "      <th>3</th>\n",
       "      <td>1</td>\n",
       "      <td>美味しいケーキを食べて、幸せな気持ちになった。</td>\n",
       "    </tr>\n",
       "    <tr>\n",
       "      <th>4</th>\n",
       "      <td>0</td>\n",
       "      <td>ペットが病気になって心配でたまらない。早く元気になって。</td>\n",
       "    </tr>\n",
       "    <tr>\n",
       "      <th>...</th>\n",
       "      <td>...</td>\n",
       "      <td>...</td>\n",
       "    </tr>\n",
       "    <tr>\n",
       "      <th>135</th>\n",
       "      <td>1</td>\n",
       "      <td>試合に勝って、チーム全員で喜んだ。</td>\n",
       "    </tr>\n",
       "    <tr>\n",
       "      <th>136</th>\n",
       "      <td>1</td>\n",
       "      <td>猫と一緒に過ごす時間が一番の癒し。</td>\n",
       "    </tr>\n",
       "    <tr>\n",
       "      <th>137</th>\n",
       "      <td>1</td>\n",
       "      <td>今日は特に何もない一日だったけど、それも悪くない。</td>\n",
       "    </tr>\n",
       "    <tr>\n",
       "      <th>138</th>\n",
       "      <td>1</td>\n",
       "      <td>新しいゲームを始めて、ハマってしまった。</td>\n",
       "    </tr>\n",
       "    <tr>\n",
       "      <th>139</th>\n",
       "      <td>1</td>\n",
       "      <td>友達の結婚式に参加して、幸せな気持ちになった。</td>\n",
       "    </tr>\n",
       "  </tbody>\n",
       "</table>\n",
       "<p>140 rows × 2 columns</p>\n",
       "</div>"
      ],
      "text/plain": [
       "     label                          text\n",
       "0        0    雨が降ってるから気分が落ち込む。早く晴れてほしいな。\n",
       "1        1     友達と映画を見に行ったけど、感動して泣いちゃった。\n",
       "2        1       新しい仕事が始まって緊張するけど、頑張りたい。\n",
       "3        1       美味しいケーキを食べて、幸せな気持ちになった。\n",
       "4        0  ペットが病気になって心配でたまらない。早く元気になって。\n",
       "..     ...                           ...\n",
       "135      1             試合に勝って、チーム全員で喜んだ。\n",
       "136      1             猫と一緒に過ごす時間が一番の癒し。\n",
       "137      1     今日は特に何もない一日だったけど、それも悪くない。\n",
       "138      1          新しいゲームを始めて、ハマってしまった。\n",
       "139      1       友達の結婚式に参加して、幸せな気持ちになった。\n",
       "\n",
       "[140 rows x 2 columns]"
      ]
     },
     "execution_count": 15,
     "metadata": {},
     "output_type": "execute_result"
    }
   ],
   "source": [
    "data_df[\"label\"] = data_df[\"label\"].map({\"n\": 0, \"p\": 1})\n",
    "data_df"
   ]
  },
  {
   "cell_type": "code",
   "execution_count": 18,
   "metadata": {},
   "outputs": [
    {
     "name": "stderr",
     "output_type": "stream",
     "text": [
      "100%|██████████| 140/140 [00:00<00:00, 521.19it/s]\n"
     ]
    }
   ],
   "source": [
    "X_test = np.stack([text2seq(text, PADDED_LEN) for text in tqdm(data_df[\"text\"])])\n",
    "X_test = torch.tensor(X_test)\n",
    "y_test = torch.tensor(data_df[\"label\"].values, dtype=torch.int64)"
   ]
  },
  {
   "cell_type": "code",
   "execution_count": 19,
   "metadata": {},
   "outputs": [],
   "source": [
    "test_ds = TensorDataset(X_test, y_test)\n",
    "torch.save(test_ds, \"../../data/v2/test_ds.pth\")"
   ]
  },
  {
   "cell_type": "code",
   "execution_count": null,
   "metadata": {},
   "outputs": [],
   "source": []
  }
 ],
 "metadata": {
  "kernelspec": {
   "display_name": "venv",
   "language": "python",
   "name": "python3"
  },
  "language_info": {
   "codemirror_mode": {
    "name": "ipython",
    "version": 3
   },
   "file_extension": ".py",
   "mimetype": "text/x-python",
   "name": "python",
   "nbconvert_exporter": "python",
   "pygments_lexer": "ipython3",
   "version": "3.11.9"
  }
 },
 "nbformat": 4,
 "nbformat_minor": 2
}
