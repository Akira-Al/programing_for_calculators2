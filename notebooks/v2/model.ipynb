{
 "cells": [
  {
   "cell_type": "code",
   "execution_count": 1,
   "metadata": {},
   "outputs": [],
   "source": [
    "import numpy as np\n",
    "import matplotlib.pyplot as plt\n",
    "import pandas as pd\n",
    "import seaborn as sns\n",
    "from gensim.models import KeyedVectors\n",
    "import torch\n",
    "from torch import nn\n",
    "from torch.utils.data import TensorDataset, DataLoader\n",
    "from torch.utils.tensorboard import SummaryWriter\n",
    "import datetime"
   ]
  },
  {
   "cell_type": "code",
   "execution_count": 2,
   "metadata": {},
   "outputs": [],
   "source": [
    "sns.set_theme()"
   ]
  },
  {
   "cell_type": "code",
   "execution_count": 3,
   "metadata": {},
   "outputs": [],
   "source": [
    "DATA_ROOT = \"../../data/v2/\""
   ]
  },
  {
   "cell_type": "code",
   "execution_count": 4,
   "metadata": {},
   "outputs": [],
   "source": [
    "chive = KeyedVectors.load(\n",
    "    DATA_ROOT + \"chive-1.1-mc5-aunit_gensim/chive-1.1-mc5-aunit.kv\"\n",
    ")"
   ]
  },
  {
   "cell_type": "code",
   "execution_count": 5,
   "metadata": {},
   "outputs": [],
   "source": [
    "train_ds = torch.load(DATA_ROOT + \"train_ds.pth\")\n",
    "val_ds = torch.load(DATA_ROOT + \"val_ds.pth\")\n",
    "test_ds = torch.load(DATA_ROOT + \"test_ds.pth\")"
   ]
  },
  {
   "cell_type": "code",
   "execution_count": 6,
   "metadata": {},
   "outputs": [
    {
     "data": {
      "text/plain": [
       "<torch.utils.data.dataset.TensorDataset at 0x14283ca20d0>"
      ]
     },
     "execution_count": 6,
     "metadata": {},
     "output_type": "execute_result"
    }
   ],
   "source": [
    "train_ds"
   ]
  },
  {
   "cell_type": "code",
   "execution_count": 7,
   "metadata": {},
   "outputs": [
    {
     "data": {
      "text/plain": [
       "<torch.utils.data.dataset.TensorDataset at 0x1428a5c1dd0>"
      ]
     },
     "execution_count": 7,
     "metadata": {},
     "output_type": "execute_result"
    }
   ],
   "source": [
    "val_ds"
   ]
  },
  {
   "cell_type": "code",
   "execution_count": 8,
   "metadata": {},
   "outputs": [
    {
     "data": {
      "text/plain": [
       "<torch.utils.data.dataset.TensorDataset at 0x14289e4d390>"
      ]
     },
     "execution_count": 8,
     "metadata": {},
     "output_type": "execute_result"
    }
   ],
   "source": [
    "test_ds"
   ]
  },
  {
   "cell_type": "code",
   "execution_count": 9,
   "metadata": {},
   "outputs": [
    {
     "data": {
      "text/plain": [
       "device(type='cpu')"
      ]
     },
     "execution_count": 9,
     "metadata": {},
     "output_type": "execute_result"
    }
   ],
   "source": [
    "device = torch.device(\"cuda\" if torch.cuda.is_available() else \"cpu\")\n",
    "device"
   ]
  },
  {
   "cell_type": "code",
   "execution_count": 10,
   "metadata": {},
   "outputs": [],
   "source": [
    "PADDED_LEN = 128\n",
    "VOCAB_SIZE = len(chive.key_to_index) + 2\n",
    "EMBEDDING_DIM = chive.vector_size\n",
    "embed_weights = np.vstack([np.zeros((2, EMBEDDING_DIM)), chive.vectors])\n",
    "embeds = nn.Embedding.from_pretrained(torch.tensor(embed_weights, dtype=torch.float32)).to(device)"
   ]
  },
  {
   "cell_type": "code",
   "execution_count": 11,
   "metadata": {},
   "outputs": [],
   "source": [
    "class AttentionClassifier(nn.Module):\n",
    "    def __init__(\n",
    "        self,\n",
    "        embeds: nn.Embedding,\n",
    "        n_classes: int,\n",
    "        attention_da: int = 128,\n",
    "        seq_hidden_dim: int = 256,\n",
    "        *args,\n",
    "        **kwargs\n",
    "    ) -> None:\n",
    "        super().__init__(*args, **kwargs)\n",
    "        embed_dim = embeds.embedding_dim\n",
    "        self.embeds = embeds\n",
    "        self.bilstm = nn.LSTM(\n",
    "            input_size=embed_dim,\n",
    "            hidden_size=embed_dim,\n",
    "            batch_first=True,\n",
    "            bidirectional=True,\n",
    "        )\n",
    "        self.attention = nn.Sequential(\n",
    "            nn.Linear(2 * embed_dim, attention_da),\n",
    "            nn.ReLU(),\n",
    "            nn.Linear(attention_da, n_classes),\n",
    "            nn.Softmax(dim=1),\n",
    "        )\n",
    "        self.sequence = nn.Sequential(\n",
    "            nn.Flatten(),\n",
    "            nn.Linear(n_classes * 2 * embed_dim, seq_hidden_dim),\n",
    "            nn.ReLU(),\n",
    "            nn.BatchNorm1d(seq_hidden_dim),\n",
    "            nn.Linear(seq_hidden_dim, n_classes),\n",
    "        )\n",
    "\n",
    "    def forward(self, X: torch.Tensor) -> tuple[torch.Tensor, torch.Tensor]:\n",
    "        X = self.embeds(X)\n",
    "        X, _ = self.bilstm(X)\n",
    "        attention = self.attention(X)\n",
    "        X = torch.transpose(attention, 1, 2) @ X\n",
    "        X = self.sequence(X)\n",
    "        return X, attention"
   ]
  },
  {
   "cell_type": "code",
   "execution_count": 12,
   "metadata": {},
   "outputs": [],
   "source": [
    "def train(\n",
    "    model: nn.Module,\n",
    "    dataloader: DataLoader,\n",
    "    optimizer: torch.optim.Optimizer,\n",
    "    loss_fn: nn.Module,\n",
    "    n_batch_report: int = 10,\n",
    ") -> tuple[float, float]:\n",
    "    size = len(dataloader.dataset)\n",
    "    num_batches = len(dataloader)\n",
    "    model.train()\n",
    "    train_loss, correct = 0, 0\n",
    "    for i, (X, y) in enumerate(dataloader):\n",
    "        X, y = X.to(device), y.to(device)\n",
    "        # Compute prediction error\n",
    "        optimizer.zero_grad()\n",
    "        y_pred, _ = model(X)\n",
    "        loss = loss_fn(y_pred, y)\n",
    "\n",
    "        train_loss += loss.item()\n",
    "        correct += (y_pred.argmax(1) == y).type(torch.float).sum().item()\n",
    "\n",
    "        # Backpropagation\n",
    "        loss.backward()\n",
    "        optimizer.step()\n",
    "\n",
    "        if i % n_batch_report == 0:\n",
    "            loss, current = loss.item(), (i + 1) * len(X)\n",
    "            print(f\"loss: {loss:>7f}  [{current:>5d}/{size:>5d}]\")\n",
    "    train_loss /= num_batches\n",
    "    correct /= size\n",
    "\n",
    "    return train_loss, correct\n",
    "\n",
    "\n",
    "def test(\n",
    "    model: nn.Module, dataloader: DataLoader, loss_fn: nn.Module\n",
    ") -> tuple[float, float]:\n",
    "    size = len(dataloader.dataset)\n",
    "    num_batches = len(dataloader)\n",
    "    model.eval()\n",
    "    test_loss, correct = 0, 0\n",
    "    with torch.no_grad():\n",
    "        for X, y in dataloader:\n",
    "            X, y = X.to(device), y.to(device)\n",
    "            y_pred, _ = model(X)\n",
    "            test_loss += loss_fn(y_pred, y).item()\n",
    "            correct += (y_pred.argmax(1) == y).type(torch.float).sum().item()\n",
    "    test_loss /= num_batches\n",
    "    correct /= size\n",
    "    return test_loss, correct"
   ]
  },
  {
   "cell_type": "code",
   "execution_count": 13,
   "metadata": {},
   "outputs": [],
   "source": [
    "class EarlyStopping:\n",
    "    def __init__(self, patience: int = 7, delta: float = 0.0):\n",
    "        self.patience = patience\n",
    "        self.delta = delta\n",
    "        self.counter = 0\n",
    "        self.best_score = None\n",
    "\n",
    "    def __call__(self, score: float):\n",
    "        early_stop = False\n",
    "        if self.best_score is None:\n",
    "            self.best_score = score\n",
    "        elif score > self.best_score + self.delta:\n",
    "            self.counter += 1\n",
    "            if self.counter >= self.patience:\n",
    "                early_stop = True\n",
    "        else:\n",
    "            self.best_score = min(score, self.best_score)\n",
    "            self.counter = 0\n",
    "        return early_stop"
   ]
  },
  {
   "cell_type": "code",
   "execution_count": 14,
   "metadata": {},
   "outputs": [],
   "source": [
    "batch_size = 256\n",
    "train_loader = DataLoader(train_ds, batch_size=batch_size, shuffle=True)\n",
    "val_loader = DataLoader(val_ds, batch_size=batch_size, shuffle=True)\n",
    "test_loader = DataLoader(test_ds, batch_size=batch_size)"
   ]
  },
  {
   "cell_type": "code",
   "execution_count": 15,
   "metadata": {},
   "outputs": [],
   "source": [
    "lr = 1e-3\n",
    "N_CLASSES = 2\n",
    "model = AttentionClassifier(embeds, N_CLASSES).to(device)\n",
    "loss_fn = nn.CrossEntropyLoss().to(device)\n",
    "optimizer = torch.optim.Adam(model.parameters(), lr=lr)"
   ]
  },
  {
   "cell_type": "code",
   "execution_count": 16,
   "metadata": {},
   "outputs": [
    {
     "data": {
      "text/plain": [
       "AttentionClassifier(\n",
       "  (embeds): Embedding(322096, 300)\n",
       "  (bilstm): LSTM(300, 300, batch_first=True, bidirectional=True)\n",
       "  (attention): Sequential(\n",
       "    (0): Linear(in_features=600, out_features=128, bias=True)\n",
       "    (1): ReLU()\n",
       "    (2): Linear(in_features=128, out_features=2, bias=True)\n",
       "    (3): Softmax(dim=1)\n",
       "  )\n",
       "  (sequence): Sequential(\n",
       "    (0): Flatten(start_dim=1, end_dim=-1)\n",
       "    (1): Linear(in_features=1200, out_features=256, bias=True)\n",
       "    (2): ReLU()\n",
       "    (3): BatchNorm1d(256, eps=1e-05, momentum=0.1, affine=True, track_running_stats=True)\n",
       "    (4): Linear(in_features=256, out_features=2, bias=True)\n",
       "  )\n",
       ")"
      ]
     },
     "execution_count": 16,
     "metadata": {},
     "output_type": "execute_result"
    }
   ],
   "source": [
    "model"
   ]
  },
  {
   "cell_type": "code",
   "execution_count": 17,
   "metadata": {},
   "outputs": [
    {
     "name": "stdout",
     "output_type": "stream",
     "text": [
      "torch.Size([256, 128, 300])\n",
      "torch.Size([256, 128, 600])\n",
      "torch.Size([256, 128, 2])\n",
      "torch.Size([256, 2, 600])\n",
      "torch.Size([256, 2])\n"
     ]
    }
   ],
   "source": [
    "X, y = next(iter(train_loader))\n",
    "X = X.to(device)\n",
    "y = y.to(device)\n",
    "\n",
    "X = model.embeds(X)\n",
    "print(X.shape)\n",
    "X, _ = model.bilstm(X)\n",
    "print(X.shape)\n",
    "attention = model.attention(X)\n",
    "print(attention.shape)\n",
    "X = torch.transpose(attention, 1, 2) @ X\n",
    "print(X.shape)\n",
    "X = model.sequence(X)\n",
    "print(X.shape)"
   ]
  },
  {
   "cell_type": "code",
   "execution_count": 18,
   "metadata": {},
   "outputs": [
    {
     "data": {
      "text/plain": [
       "(torch.Size([256, 2]), torch.Size([256, 128, 2]))"
      ]
     },
     "execution_count": 18,
     "metadata": {},
     "output_type": "execute_result"
    }
   ],
   "source": [
    "X, y = next(iter(train_loader))\n",
    "X = X.to(device)\n",
    "y = y.to(device)\n",
    "\n",
    "y_pred, attention = model(X)\n",
    "y_pred.shape, attention.shape"
   ]
  },
  {
   "cell_type": "code",
   "execution_count": 19,
   "metadata": {},
   "outputs": [],
   "source": [
    "epoch_total = 0\n",
    "hist = {\"train_loss\": [], \"train_accuracy\": [], \"val_loss\": [], \"val_accuracy\": []}\n",
    "early_stopping = EarlyStopping(patience=3)\n",
    "summary_writer = SummaryWriter(log_dir=\"./logs\")"
   ]
  },
  {
   "cell_type": "code",
   "execution_count": 22,
   "metadata": {},
   "outputs": [
    {
     "name": "stdout",
     "output_type": "stream",
     "text": [
      "Epoch 1\n",
      "-------------------------------\n",
      "loss: 0.697123  [  256/34560]\n",
      "loss: 0.635737  [ 2816/34560]\n",
      "loss: 0.597062  [ 5376/34560]\n",
      "loss: 0.565633  [ 7936/34560]\n",
      "loss: 0.609372  [10496/34560]\n",
      "loss: 0.594836  [13056/34560]\n",
      "loss: 0.515119  [15616/34560]\n",
      "loss: 0.602030  [18176/34560]\n",
      "loss: 0.547721  [20736/34560]\n",
      "loss: 0.520428  [23296/34560]\n",
      "loss: 0.535011  [25856/34560]\n",
      "loss: 0.544561  [28416/34560]\n",
      "loss: 0.509417  [30976/34560]\n",
      "loss: 0.493740  [33536/34560]\n",
      "Epoch Summary:\n",
      "train_loss: 0.561433, val_loss: 0.808060\n",
      "train_accuracy: 0.716725, val_accuracy: 0.654282\n",
      "Epoch 2\n",
      "-------------------------------\n",
      "loss: 0.490332  [  256/34560]\n",
      "loss: 0.564021  [ 2816/34560]\n",
      "loss: 0.516615  [ 5376/34560]\n",
      "loss: 0.490165  [ 7936/34560]\n",
      "loss: 0.551045  [10496/34560]\n",
      "loss: 0.483302  [13056/34560]\n",
      "loss: 0.490608  [15616/34560]\n",
      "loss: 0.496648  [18176/34560]\n",
      "loss: 0.495427  [20736/34560]\n",
      "loss: 0.489542  [23296/34560]\n",
      "loss: 0.533081  [25856/34560]\n",
      "loss: 0.548705  [28416/34560]\n",
      "loss: 0.490447  [30976/34560]\n",
      "loss: 0.472522  [33536/34560]\n",
      "Epoch Summary:\n",
      "train_loss: 0.504227, val_loss: 0.554568\n",
      "train_accuracy: 0.749740, val_accuracy: 0.706250\n",
      "Epoch 3\n",
      "-------------------------------\n",
      "loss: 0.525622  [  256/34560]\n",
      "loss: 0.500310  [ 2816/34560]\n",
      "loss: 0.491310  [ 5376/34560]\n",
      "loss: 0.456391  [ 7936/34560]\n",
      "loss: 0.535639  [10496/34560]\n",
      "loss: 0.500103  [13056/34560]\n",
      "loss: 0.475500  [15616/34560]\n",
      "loss: 0.535606  [18176/34560]\n",
      "loss: 0.534210  [20736/34560]\n",
      "loss: 0.470802  [23296/34560]\n",
      "loss: 0.526913  [25856/34560]\n",
      "loss: 0.477760  [28416/34560]\n",
      "loss: 0.460109  [30976/34560]\n",
      "loss: 0.543034  [33536/34560]\n",
      "Epoch Summary:\n",
      "train_loss: 0.493224, val_loss: 0.526265\n",
      "train_accuracy: 0.756800, val_accuracy: 0.740741\n",
      "Epoch 4\n",
      "-------------------------------\n",
      "loss: 0.440739  [  256/34560]\n",
      "loss: 0.441071  [ 2816/34560]\n",
      "loss: 0.453728  [ 5376/34560]\n",
      "loss: 0.478004  [ 7936/34560]\n",
      "loss: 0.474187  [10496/34560]\n",
      "loss: 0.417242  [13056/34560]\n",
      "loss: 0.541850  [15616/34560]\n",
      "loss: 0.434166  [18176/34560]\n",
      "loss: 0.519110  [20736/34560]\n",
      "loss: 0.507260  [23296/34560]\n",
      "loss: 0.457731  [25856/34560]\n",
      "loss: 0.498924  [28416/34560]\n",
      "loss: 0.503457  [30976/34560]\n",
      "loss: 0.433894  [33536/34560]\n",
      "Epoch Summary:\n",
      "train_loss: 0.478973, val_loss: 0.517055\n",
      "train_accuracy: 0.766319, val_accuracy: 0.741319\n",
      "Epoch 5\n",
      "-------------------------------\n",
      "loss: 0.465289  [  256/34560]\n",
      "loss: 0.443435  [ 2816/34560]\n",
      "loss: 0.447110  [ 5376/34560]\n",
      "loss: 0.478305  [ 7936/34560]\n",
      "loss: 0.479333  [10496/34560]\n",
      "loss: 0.481559  [13056/34560]\n",
      "loss: 0.452598  [15616/34560]\n",
      "loss: 0.397601  [18176/34560]\n",
      "loss: 0.478720  [20736/34560]\n",
      "loss: 0.472839  [23296/34560]\n",
      "loss: 0.408957  [25856/34560]\n",
      "loss: 0.475580  [28416/34560]\n",
      "loss: 0.510059  [30976/34560]\n",
      "loss: 0.506272  [33536/34560]\n",
      "Epoch Summary:\n",
      "train_loss: 0.466660, val_loss: 0.503952\n",
      "train_accuracy: 0.774306, val_accuracy: 0.752662\n",
      "Epoch 6\n",
      "-------------------------------\n",
      "loss: 0.495349  [  256/34560]\n",
      "loss: 0.493277  [ 2816/34560]\n",
      "loss: 0.440828  [ 5376/34560]\n",
      "loss: 0.471099  [ 7936/34560]\n",
      "loss: 0.428792  [10496/34560]\n",
      "loss: 0.388080  [13056/34560]\n",
      "loss: 0.425220  [15616/34560]\n",
      "loss: 0.498859  [18176/34560]\n",
      "loss: 0.478763  [20736/34560]\n",
      "loss: 0.459391  [23296/34560]\n",
      "loss: 0.499076  [25856/34560]\n",
      "loss: 0.471350  [28416/34560]\n",
      "loss: 0.468343  [30976/34560]\n",
      "loss: 0.476351  [33536/34560]\n",
      "Epoch Summary:\n",
      "train_loss: 0.453524, val_loss: 0.512633\n",
      "train_accuracy: 0.780990, val_accuracy: 0.744213\n",
      "Epoch 7\n",
      "-------------------------------\n",
      "loss: 0.447905  [  256/34560]\n",
      "loss: 0.429837  [ 2816/34560]\n",
      "loss: 0.424124  [ 5376/34560]\n",
      "loss: 0.399102  [ 7936/34560]\n",
      "loss: 0.418414  [10496/34560]\n",
      "loss: 0.432245  [13056/34560]\n",
      "loss: 0.439321  [15616/34560]\n",
      "loss: 0.497323  [18176/34560]\n",
      "loss: 0.411324  [20736/34560]\n",
      "loss: 0.430425  [23296/34560]\n",
      "loss: 0.433117  [25856/34560]\n",
      "loss: 0.436844  [28416/34560]\n",
      "loss: 0.399678  [30976/34560]\n",
      "loss: 0.427646  [33536/34560]\n",
      "Epoch Summary:\n",
      "train_loss: 0.439787, val_loss: 0.540629\n",
      "train_accuracy: 0.786487, val_accuracy: 0.739236\n",
      "Epoch 8\n",
      "-------------------------------\n",
      "loss: 0.387344  [  256/34560]\n",
      "loss: 0.388966  [ 2816/34560]\n",
      "loss: 0.374596  [ 5376/34560]\n",
      "loss: 0.442922  [ 7936/34560]\n",
      "loss: 0.431956  [10496/34560]\n",
      "loss: 0.478242  [13056/34560]\n",
      "loss: 0.469413  [15616/34560]\n",
      "loss: 0.411686  [18176/34560]\n",
      "loss: 0.411782  [20736/34560]\n",
      "loss: 0.463859  [23296/34560]\n",
      "loss: 0.388540  [25856/34560]\n",
      "loss: 0.415687  [28416/34560]\n",
      "loss: 0.453942  [30976/34560]\n",
      "loss: 0.431521  [33536/34560]\n",
      "Epoch Summary:\n",
      "train_loss: 0.423667, val_loss: 0.564320\n",
      "train_accuracy: 0.796209, val_accuracy: 0.717940\n",
      "Early stopping\n"
     ]
    }
   ],
   "source": [
    "N_EPOCHS = 10\n",
    "for t in range(N_EPOCHS):\n",
    "    print(f\"Epoch {t+1}\\n-------------------------------\")\n",
    "    train_loss, train_accuracy = train(model, train_loader, optimizer, loss_fn)\n",
    "    val_loss, val_accuracy = test(model, val_loader, loss_fn)\n",
    "\n",
    "    hist[\"train_loss\"].append(train_loss)\n",
    "    hist[\"train_accuracy\"].append(train_accuracy)\n",
    "    hist[\"val_loss\"].append(val_loss)\n",
    "    hist[\"val_accuracy\"].append(val_accuracy)\n",
    "    summary_writer.add_scalars(\"loss\", {\"train\": train_loss, \"val\": val_loss}, epoch_total)\n",
    "    summary_writer.add_scalars(\"accuracy\", {\"train\": train_accuracy, \"val\": val_accuracy}, epoch_total)\n",
    "\n",
    "    print(\"Epoch Summary:\")\n",
    "    print(f\"train_loss: {train_loss:>7f}, val_loss: {val_loss:>7f}\")\n",
    "    print(f\"train_accuracy: {train_accuracy:>7f}, val_accuracy: {val_accuracy:>7f}\")\n",
    "\n",
    "    if early_stopping(val_loss):\n",
    "        print(\"Early stopping\")\n",
    "        break\n",
    "    \n",
    "    epoch_total += 1"
   ]
  },
  {
   "cell_type": "code",
   "execution_count": 24,
   "metadata": {},
   "outputs": [],
   "source": [
    "now = datetime.datetime.now()\n",
    "time_stamp = now.strftime(\"%Y%m%d_%H%M\")\n",
    "torch.save(model.state_dict(), DATA_ROOT + f\"/models/{time_stamp}.pth\")\n",
    "torch.save(optimizer.state_dict(), DATA_ROOT + f\"/models/{time_stamp}_optim.pth\")"
   ]
  },
  {
   "cell_type": "code",
   "execution_count": 25,
   "metadata": {},
   "outputs": [
    {
     "data": {
      "image/png": "[encoded data removed]",
      "text/plain": [
       "<Figure size 640x480 with 1 Axes>"
      ]
     },
     "metadata": {},
     "output_type": "display_data"
    },
    {
     "data": {
      "image/png": "[encoded data removed]",
      "text/plain": [
       "<Figure size 640x480 with 1 Axes>"
      ]
     },
     "metadata": {},
     "output_type": "display_data"
    }
   ],
   "source": [
    "plt.plot(hist[\"train_loss\"], label=\"train_loss\")\n",
    "plt.plot(hist[\"val_loss\"], label=\"val_loss\")\n",
    "plt.title(\"Loss\")\n",
    "plt.legend()\n",
    "plt.xlabel(\"epoch\")\n",
    "plt.ylabel(\"loss\")\n",
    "plt.show()\n",
    "\n",
    "plt.plot(hist[\"train_accuracy\"], label=\"train_accuracy\")\n",
    "plt.plot(hist[\"val_accuracy\"], label=\"val_accuracy\")\n",
    "plt.title(\"Accuracy\")\n",
    "plt.legend()\n",
    "plt.xlabel(\"epoch\")\n",
    "plt.ylabel(\"accuracy\")\n",
    "plt.show()"
   ]
  },
  {
   "cell_type": "code",
   "execution_count": 26,
   "metadata": {},
   "outputs": [
    {
     "name": "stdout",
     "output_type": "stream",
     "text": [
      "Test Loss: 0.186342\n",
      "Test Accuracy: 0.921429\n"
     ]
    }
   ],
   "source": [
    "test_loss, test_accuracy = test(model, test_loader, loss_fn)\n",
    "print(f\"Test Loss: {test_loss:>7f}\")\n",
    "print(f\"Test Accuracy: {test_accuracy:>7f}\")"
   ]
  },
  {
   "cell_type": "code",
   "execution_count": 20,
   "metadata": {},
   "outputs": [],
   "source": [
    "%load_ext tensorboard"
   ]
  },
  {
   "cell_type": "code",
   "execution_count": 21,
   "metadata": {},
   "outputs": [
    {
     "data": {
      "text/html": [
       "\n",
       "      <iframe id=\"tensorboard-frame-7cd0e31da50d8fb8\" width=\"100%\" height=\"800\" frameborder=\"0\">\n",
       "      </iframe>\n",
       "      <script>\n",
       "        (function() {\n",
       "          const frame = document.getElementById(\"tensorboard-frame-7cd0e31da50d8fb8\");\n",
       "          const url = new URL(\"/\", window.location);\n",
       "          const port = 6006;\n",
       "          if (port) {\n",
       "            url.port = port;\n",
       "          }\n",
       "          frame.src = url;\n",
       "        })();\n",
       "      </script>\n",
       "    "
      ],
      "text/plain": [
       "<IPython.core.display.HTML object>"
      ]
     },
     "metadata": {},
     "output_type": "display_data"
    }
   ],
   "source": [
    "%tensorboard --logdir ./logs/"
   ]
  },
  {
   "cell_type": "code",
   "execution_count": null,
   "metadata": {},
   "outputs": [],
   "source": []
  }
 ],
 "metadata": {
  "kernelspec": {
   "display_name": "venv",
   "language": "python",
   "name": "python3"
  },
  "language_info": {
   "codemirror_mode": {
    "name": "ipython",
    "version": 3
   },
   "file_extension": ".py",
   "mimetype": "text/x-python",
   "name": "python",
   "nbconvert_exporter": "python",
   "pygments_lexer": "ipython3",
   "version": "3.11.9"
  }
 },
 "nbformat": 4,
 "nbformat_minor": 2
}
