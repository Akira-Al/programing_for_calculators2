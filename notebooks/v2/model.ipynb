{
 "cells": [
  {
   "cell_type": "code",
   "execution_count": 1,
   "metadata": {},
   "outputs": [],
   "source": [
    "import numpy as np\n",
    "import matplotlib.pyplot as plt\n",
    "import pandas as pd\n",
    "import seaborn as sns\n",
    "from gensim.models import KeyedVectors\n",
    "import torch\n",
    "from torch import nn\n",
    "from torch.utils.data import TensorDataset, DataLoader\n",
    "from torch.utils.tensorboard import SummaryWriter\n",
    "import datetime\n",
    "import os"
   ]
  },
  {
   "cell_type": "code",
   "execution_count": 2,
   "metadata": {},
   "outputs": [],
   "source": [
    "sns.set_theme()"
   ]
  },
  {
   "cell_type": "code",
   "execution_count": 3,
   "metadata": {},
   "outputs": [],
   "source": [
    "DATA_ROOT = \"../../data/v2/\""
   ]
  },
  {
   "cell_type": "code",
   "execution_count": 4,
   "metadata": {},
   "outputs": [],
   "source": [
    "chive = KeyedVectors.load(\n",
    "    DATA_ROOT + \"chive-1.1-mc5-aunit_gensim/chive-1.1-mc5-aunit.kv\"\n",
    ")"
   ]
  },
  {
   "cell_type": "code",
   "execution_count": 5,
   "metadata": {},
   "outputs": [],
   "source": [
    "train_ds = torch.load(DATA_ROOT + \"train_ds.pth\")\n",
    "val_ds = torch.load(DATA_ROOT + \"val_ds.pth\")\n",
    "test_ds = torch.load(DATA_ROOT + \"test_ds.pth\")"
   ]
  },
  {
   "cell_type": "code",
   "execution_count": 6,
   "metadata": {},
   "outputs": [
    {
     "data": {
      "text/plain": [
       "<torch.utils.data.dataset.TensorDataset at 0x20036077cd0>"
      ]
     },
     "execution_count": 6,
     "metadata": {},
     "output_type": "execute_result"
    }
   ],
   "source": [
    "train_ds"
   ]
  },
  {
   "cell_type": "code",
   "execution_count": 7,
   "metadata": {},
   "outputs": [
    {
     "data": {
      "text/plain": [
       "<torch.utils.data.dataset.TensorDataset at 0x20035930790>"
      ]
     },
     "execution_count": 7,
     "metadata": {},
     "output_type": "execute_result"
    }
   ],
   "source": [
    "val_ds"
   ]
  },
  {
   "cell_type": "code",
   "execution_count": 8,
   "metadata": {},
   "outputs": [
    {
     "data": {
      "text/plain": [
       "<torch.utils.data.dataset.TensorDataset at 0x200357dd410>"
      ]
     },
     "execution_count": 8,
     "metadata": {},
     "output_type": "execute_result"
    }
   ],
   "source": [
    "test_ds"
   ]
  },
  {
   "cell_type": "code",
   "execution_count": 9,
   "metadata": {},
   "outputs": [
    {
     "data": {
      "text/plain": [
       "device(type='cpu')"
      ]
     },
     "execution_count": 9,
     "metadata": {},
     "output_type": "execute_result"
    }
   ],
   "source": [
    "device = torch.device(\"cuda\" if torch.cuda.is_available() else \"cpu\")\n",
    "device"
   ]
  },
  {
   "cell_type": "code",
   "execution_count": 10,
   "metadata": {},
   "outputs": [],
   "source": [
    "PADDED_LEN = 128\n",
    "VOCAB_SIZE = len(chive.key_to_index) + 2\n",
    "EMBEDDING_DIM = chive.vector_size\n",
    "embed_weights = np.vstack([np.zeros((2, EMBEDDING_DIM)), chive.vectors])\n",
    "embeds = nn.Embedding.from_pretrained(torch.tensor(embed_weights, dtype=torch.float32)).to(device)"
   ]
  },
  {
   "cell_type": "code",
   "execution_count": 11,
   "metadata": {},
   "outputs": [],
   "source": [
    "def train(\n",
    "    model: nn.Module,\n",
    "    dataloader: DataLoader,\n",
    "    optimizer: torch.optim.Optimizer,\n",
    "    loss_fn: nn.Module,\n",
    "    n_batch_report: int = 10,\n",
    ") -> tuple[float, float]:\n",
    "    size = len(dataloader.dataset)\n",
    "    num_batches = len(dataloader)\n",
    "    model.train()\n",
    "    train_loss, correct = 0, 0\n",
    "    for i, (X, y) in enumerate(dataloader):\n",
    "        X, y = X.to(device), y.to(device)\n",
    "        # Compute prediction error\n",
    "        optimizer.zero_grad()\n",
    "        y_pred, _ = model(X)\n",
    "        loss = loss_fn(y_pred, y)\n",
    "\n",
    "        train_loss += loss.item()\n",
    "        correct += (y_pred.argmax(1) == y).type(torch.float).sum().item()\n",
    "\n",
    "        # Backpropagation\n",
    "        loss.backward()\n",
    "        optimizer.step()\n",
    "\n",
    "        if i % n_batch_report == 0:\n",
    "            loss, current = loss.item(), (i + 1) * len(X)\n",
    "            print(f\"loss: {loss:>7f}  [{current:>5d}/{size:>5d}]\")\n",
    "    train_loss /= num_batches\n",
    "    correct /= size\n",
    "\n",
    "    return train_loss, correct\n",
    "\n",
    "\n",
    "def test(\n",
    "    model: nn.Module, dataloader: DataLoader, loss_fn: nn.Module\n",
    ") -> tuple[float, float]:\n",
    "    size = len(dataloader.dataset)\n",
    "    num_batches = len(dataloader)\n",
    "    model.eval()\n",
    "    test_loss, correct = 0, 0\n",
    "    with torch.no_grad():\n",
    "        for X, y in dataloader:\n",
    "            X, y = X.to(device), y.to(device)\n",
    "            y_pred, _ = model(X)\n",
    "            test_loss += loss_fn(y_pred, y).item()\n",
    "            correct += (y_pred.argmax(1) == y).type(torch.float).sum().item()\n",
    "    test_loss /= num_batches\n",
    "    correct /= size\n",
    "    return test_loss, correct"
   ]
  },
  {
   "cell_type": "code",
   "execution_count": 12,
   "metadata": {},
   "outputs": [],
   "source": [
    "class EarlyStopping:\n",
    "    def __init__(self, patience: int = 7, delta: float = 0.0):\n",
    "        self.patience = patience\n",
    "        self.delta = delta\n",
    "        self.counter = 0\n",
    "        self.best_score = None\n",
    "\n",
    "    def __call__(self, score: float):\n",
    "        early_stop = False\n",
    "        if self.best_score is None:\n",
    "            self.best_score = score\n",
    "        elif score > self.best_score + self.delta:\n",
    "            self.counter += 1\n",
    "            if self.counter >= self.patience:\n",
    "                early_stop = True\n",
    "        else:\n",
    "            self.best_score = min(score, self.best_score)\n",
    "            self.counter = 0\n",
    "        return early_stop"
   ]
  },
  {
   "cell_type": "code",
   "execution_count": 13,
   "metadata": {},
   "outputs": [],
   "source": [
    "def save_checkpoint(epoch: int, model: nn.Module, optimizer: torch.optim.Optimizer, loss: float, acc: float, model_dir: str):\n",
    "    if not os.path.exists(model_dir):\n",
    "        os.makedirs(model_dir)\n",
    "    torch.save(\n",
    "        {\n",
    "            \"epoch\": epoch,\n",
    "            \"model_state_dict\": model.state_dict(),\n",
    "            \"optimizer_state_dict\": optimizer.state_dict(),\n",
    "            \"loss\": loss,\n",
    "            \"acc\": acc,\n",
    "        },\n",
    "        f\"{model_dir}/checkpoint_{epoch}.pth\",\n",
    "    )"
   ]
  },
  {
   "cell_type": "code",
   "execution_count": 33,
   "metadata": {},
   "outputs": [],
   "source": [
    "class AttentionClassifier(nn.Module):\n",
    "    def __init__(\n",
    "        self,\n",
    "        embeds: nn.Embedding,\n",
    "        n_classes: int,\n",
    "        *args,\n",
    "        bilstm_hidden_dim: int = 256,\n",
    "        attention_da: int = 128,\n",
    "        attention_r: int = 2,\n",
    "        seq_hidden_dim: int = 256,\n",
    "        seq_dropout: float = 0.2,\n",
    "        **kwargs\n",
    "    ) -> None:\n",
    "        super().__init__(*args, **kwargs)\n",
    "        embed_dim = embeds.embedding_dim\n",
    "        self.embeds = embeds\n",
    "        self.bilstm = nn.LSTM(\n",
    "            input_size=embed_dim,\n",
    "            hidden_size=bilstm_hidden_dim,\n",
    "            batch_first=True,\n",
    "            bidirectional=True,\n",
    "        )\n",
    "        self.attention = nn.Sequential(\n",
    "            nn.Linear(2 * bilstm_hidden_dim, attention_da),\n",
    "            nn.BatchNorm1d(attention_da),\n",
    "            nn.ReLU(),\n",
    "            nn.Linear(attention_da, attention_r),\n",
    "            nn.Softmax(dim=1),\n",
    "        )\n",
    "        self.sequence = nn.Sequential(\n",
    "            nn.Flatten(),\n",
    "            nn.Linear(attention_r * 2 * bilstm_hidden_dim, seq_hidden_dim),\n",
    "            nn.BatchNorm1d(seq_hidden_dim),\n",
    "            nn.ReLU(),\n",
    "            nn.Dropout(seq_dropout),\n",
    "            nn.Linear(seq_hidden_dim, n_classes),\n",
    "        )\n",
    "\n",
    "    def forward(self, X: torch.Tensor) -> tuple[torch.Tensor, torch.Tensor]:\n",
    "        X = self.embeds(X)\n",
    "        X, _ = self.bilstm(X)\n",
    "        attention = self.attention(X)\n",
    "        X = torch.transpose(attention, 1, 2) @ X\n",
    "        X = self.sequence(X)\n",
    "        return X, attention"
   ]
  },
  {
   "cell_type": "code",
   "execution_count": 15,
   "metadata": {},
   "outputs": [],
   "source": [
    "batch_size = 256\n",
    "train_loader = DataLoader(train_ds, batch_size=batch_size, shuffle=True)\n",
    "val_loader = DataLoader(val_ds, batch_size=batch_size, shuffle=True)\n",
    "test_loader = DataLoader(test_ds, batch_size=batch_size)"
   ]
  },
  {
   "cell_type": "code",
   "execution_count": 34,
   "metadata": {},
   "outputs": [],
   "source": [
    "lr = 1e-3\n",
    "N_CLASSES = 2\n",
    "model = AttentionClassifier(embeds, N_CLASSES, bilstm_hidden_dim=300).to(device)\n",
    "loss_fn = nn.CrossEntropyLoss().to(device)\n",
    "optimizer = torch.optim.Adam(model.parameters(), lr=lr)"
   ]
  },
  {
   "cell_type": "code",
   "execution_count": 35,
   "metadata": {},
   "outputs": [
    {
     "data": {
      "text/plain": [
       "AttentionClassifier(\n",
       "  (embeds): Embedding(322096, 300)\n",
       "  (bilstm): LSTM(300, 300, batch_first=True, bidirectional=True)\n",
       "  (attention): Sequential(\n",
       "    (0): Linear(in_features=600, out_features=128, bias=True)\n",
       "    (1): BatchNorm1d(128, eps=1e-05, momentum=0.1, affine=True, track_running_stats=True)\n",
       "    (2): ReLU()\n",
       "    (3): Linear(in_features=128, out_features=2, bias=True)\n",
       "    (4): Softmax(dim=1)\n",
       "  )\n",
       "  (sequence): Sequential(\n",
       "    (0): Flatten(start_dim=1, end_dim=-1)\n",
       "    (1): Linear(in_features=1200, out_features=256, bias=True)\n",
       "    (2): BatchNorm1d(256, eps=1e-05, momentum=0.1, affine=True, track_running_stats=True)\n",
       "    (3): ReLU()\n",
       "    (4): Dropout(p=0.2, inplace=False)\n",
       "    (5): Linear(in_features=256, out_features=2, bias=True)\n",
       "  )\n",
       ")"
      ]
     },
     "execution_count": 35,
     "metadata": {},
     "output_type": "execute_result"
    }
   ],
   "source": [
    "model"
   ]
  },
  {
   "cell_type": "code",
   "execution_count": 36,
   "metadata": {},
   "outputs": [
    {
     "name": "stdout",
     "output_type": "stream",
     "text": [
      "torch.Size([256, 128, 300])\n",
      "torch.Size([256, 128, 600])\n",
      "torch.Size([256, 128, 2])\n",
      "torch.Size([256, 2, 600])\n",
      "torch.Size([256, 2])\n"
     ]
    }
   ],
   "source": [
    "X, y = next(iter(train_loader))\n",
    "X = X.to(device)\n",
    "y = y.to(device)\n",
    "\n",
    "X = model.embeds(X)\n",
    "print(X.shape)\n",
    "X, _ = model.bilstm(X)\n",
    "print(X.shape)\n",
    "attention = model.attention(X)\n",
    "print(attention.shape)\n",
    "X = torch.transpose(attention, 1, 2) @ X\n",
    "print(X.shape)\n",
    "X = model.sequence(X)\n",
    "print(X.shape)"
   ]
  },
  {
   "cell_type": "code",
   "execution_count": 37,
   "metadata": {},
   "outputs": [
    {
     "data": {
      "text/plain": [
       "(torch.Size([256, 2]), torch.Size([256, 128, 2]))"
      ]
     },
     "execution_count": 37,
     "metadata": {},
     "output_type": "execute_result"
    }
   ],
   "source": [
    "X, y = next(iter(train_loader))\n",
    "X = X.to(device)\n",
    "y = y.to(device)\n",
    "\n",
    "y_pred, attention = model(X)\n",
    "y_pred.shape, attention.shape"
   ]
  },
  {
   "cell_type": "code",
   "execution_count": 39,
   "metadata": {},
   "outputs": [],
   "source": [
    "epoch = 0\n",
    "hist = {\"train_loss\": [], \"train_accuracy\": [], \"val_loss\": [], \"val_accuracy\": []}\n",
    "early_stopping = EarlyStopping(patience=5)\n",
    "timestamp = datetime.datetime.now().strftime(\"%Y%m%d%H%M%S\")\n",
    "summary_writer = SummaryWriter(log_dir=f\"./logs/{timestamp}/\")"
   ]
  },
  {
   "cell_type": "code",
   "execution_count": 40,
   "metadata": {},
   "outputs": [
    {
     "name": "stdout",
     "output_type": "stream",
     "text": [
      "Epoch 1\n",
      "-------------------------------\n",
      "loss: 0.694580  [  256/34560]\n",
      "loss: 0.649495  [ 2816/34560]\n",
      "loss: 0.603147  [ 5376/34560]\n",
      "loss: 0.527112  [ 7936/34560]\n",
      "loss: 0.551378  [10496/34560]\n",
      "loss: 0.519271  [13056/34560]\n",
      "loss: 0.521347  [15616/34560]\n",
      "loss: 0.597885  [18176/34560]\n",
      "loss: 0.522947  [20736/34560]\n",
      "loss: 0.499289  [23296/34560]\n",
      "loss: 0.509930  [25856/34560]\n",
      "loss: 0.462639  [28416/34560]\n",
      "loss: 0.508038  [30976/34560]\n",
      "loss: 0.540634  [33536/34560]\n",
      "Epoch Summary:\n",
      "train_loss: 0.542888, val_loss: 0.599273\n",
      "train_accuracy: 0.722251, val_accuracy: 0.680093\n",
      "Epoch 2\n",
      "-------------------------------\n",
      "loss: 0.504044  [  256/34560]\n",
      "loss: 0.549540  [ 2816/34560]\n",
      "loss: 0.463959  [ 5376/34560]\n",
      "loss: 0.487547  [ 7936/34560]\n",
      "loss: 0.512531  [10496/34560]\n",
      "loss: 0.508615  [13056/34560]\n",
      "loss: 0.475552  [15616/34560]\n",
      "loss: 0.456510  [18176/34560]\n",
      "loss: 0.514524  [20736/34560]\n",
      "loss: 0.515652  [23296/34560]\n",
      "loss: 0.567574  [25856/34560]\n",
      "loss: 0.505899  [28416/34560]\n",
      "loss: 0.471008  [30976/34560]\n",
      "loss: 0.549278  [33536/34560]\n",
      "Epoch Summary:\n",
      "train_loss: 0.497479, val_loss: 0.592472\n",
      "train_accuracy: 0.754774, val_accuracy: 0.710764\n",
      "Epoch 3\n",
      "-------------------------------\n",
      "loss: 0.491556  [  256/34560]\n",
      "loss: 0.474988  [ 2816/34560]\n",
      "loss: 0.485707  [ 5376/34560]\n",
      "loss: 0.499589  [ 7936/34560]\n",
      "loss: 0.527969  [10496/34560]\n",
      "loss: 0.501175  [13056/34560]\n",
      "loss: 0.470267  [15616/34560]\n",
      "loss: 0.490777  [18176/34560]\n",
      "loss: 0.544358  [20736/34560]\n",
      "loss: 0.471366  [23296/34560]\n",
      "loss: 0.484344  [25856/34560]\n",
      "loss: 0.508553  [28416/34560]\n",
      "loss: 0.489391  [30976/34560]\n",
      "loss: 0.452303  [33536/34560]\n",
      "Epoch Summary:\n",
      "train_loss: 0.482890, val_loss: 0.593227\n",
      "train_accuracy: 0.763542, val_accuracy: 0.692824\n",
      "Epoch 4\n",
      "-------------------------------\n",
      "loss: 0.440623  [  256/34560]\n",
      "loss: 0.405250  [ 2816/34560]\n",
      "loss: 0.424704  [ 5376/34560]\n",
      "loss: 0.411665  [ 7936/34560]\n",
      "loss: 0.483332  [10496/34560]\n",
      "loss: 0.453291  [13056/34560]\n",
      "loss: 0.477835  [15616/34560]\n",
      "loss: 0.549101  [18176/34560]\n",
      "loss: 0.414729  [20736/34560]\n",
      "loss: 0.422730  [23296/34560]\n",
      "loss: 0.462603  [25856/34560]\n",
      "loss: 0.453419  [28416/34560]\n",
      "loss: 0.486183  [30976/34560]\n",
      "loss: 0.456287  [33536/34560]\n",
      "Epoch Summary:\n",
      "train_loss: 0.466099, val_loss: 0.506355\n",
      "train_accuracy: 0.774016, val_accuracy: 0.753356\n",
      "Epoch 5\n",
      "-------------------------------\n",
      "loss: 0.447200  [  256/34560]\n",
      "loss: 0.407147  [ 2816/34560]\n",
      "loss: 0.384131  [ 5376/34560]\n",
      "loss: 0.442889  [ 7936/34560]\n",
      "loss: 0.447726  [10496/34560]\n",
      "loss: 0.477543  [13056/34560]\n",
      "loss: 0.465198  [15616/34560]\n",
      "loss: 0.483483  [18176/34560]\n",
      "loss: 0.471859  [20736/34560]\n",
      "loss: 0.436674  [23296/34560]\n",
      "loss: 0.429645  [25856/34560]\n",
      "loss: 0.460984  [28416/34560]\n",
      "loss: 0.406987  [30976/34560]\n",
      "loss: 0.509223  [33536/34560]\n",
      "Epoch Summary:\n",
      "train_loss: 0.453174, val_loss: 0.538389\n",
      "train_accuracy: 0.781337, val_accuracy: 0.738310\n",
      "Epoch 6\n",
      "-------------------------------\n",
      "loss: 0.382759  [  256/34560]\n",
      "loss: 0.432365  [ 2816/34560]\n",
      "loss: 0.426144  [ 5376/34560]\n",
      "loss: 0.462905  [ 7936/34560]\n",
      "loss: 0.455397  [10496/34560]\n",
      "loss: 0.416362  [13056/34560]\n",
      "loss: 0.392028  [15616/34560]\n",
      "loss: 0.417348  [18176/34560]\n",
      "loss: 0.406462  [20736/34560]\n",
      "loss: 0.419365  [23296/34560]\n",
      "loss: 0.452429  [25856/34560]\n",
      "loss: 0.478829  [28416/34560]\n",
      "loss: 0.490704  [30976/34560]\n",
      "loss: 0.440092  [33536/34560]\n",
      "Epoch Summary:\n",
      "train_loss: 0.438890, val_loss: 0.509528\n",
      "train_accuracy: 0.789959, val_accuracy: 0.750810\n",
      "Epoch 7\n",
      "-------------------------------\n",
      "loss: 0.399747  [  256/34560]\n",
      "loss: 0.406534  [ 2816/34560]\n",
      "loss: 0.392560  [ 5376/34560]\n",
      "loss: 0.445352  [ 7936/34560]\n",
      "loss: 0.408151  [10496/34560]\n",
      "loss: 0.428586  [13056/34560]\n",
      "loss: 0.393219  [15616/34560]\n",
      "loss: 0.435907  [18176/34560]\n",
      "loss: 0.381878  [20736/34560]\n",
      "loss: 0.407799  [23296/34560]\n",
      "loss: 0.482802  [25856/34560]\n",
      "loss: 0.425647  [28416/34560]\n",
      "loss: 0.407185  [30976/34560]\n",
      "loss: 0.386568  [33536/34560]\n",
      "Epoch Summary:\n",
      "train_loss: 0.416109, val_loss: 0.540492\n",
      "train_accuracy: 0.801939, val_accuracy: 0.743981\n",
      "Epoch 8\n",
      "-------------------------------\n",
      "loss: 0.378490  [  256/34560]\n",
      "loss: 0.416988  [ 2816/34560]\n",
      "loss: 0.396205  [ 5376/34560]\n",
      "loss: 0.374931  [ 7936/34560]\n",
      "loss: 0.403324  [10496/34560]\n",
      "loss: 0.393422  [13056/34560]\n",
      "loss: 0.383026  [15616/34560]\n",
      "loss: 0.437724  [18176/34560]\n",
      "loss: 0.419476  [20736/34560]\n",
      "loss: 0.386924  [23296/34560]\n",
      "loss: 0.395472  [25856/34560]\n",
      "loss: 0.400196  [28416/34560]\n",
      "loss: 0.449585  [30976/34560]\n",
      "loss: 0.420984  [33536/34560]\n",
      "Epoch Summary:\n",
      "train_loss: 0.393236, val_loss: 0.540284\n",
      "train_accuracy: 0.814583, val_accuracy: 0.745486\n",
      "Epoch 9\n",
      "-------------------------------\n",
      "loss: 0.341632  [  256/34560]\n",
      "loss: 0.358794  [ 2816/34560]\n",
      "loss: 0.360944  [ 5376/34560]\n",
      "loss: 0.371924  [ 7936/34560]\n",
      "loss: 0.410939  [10496/34560]\n",
      "loss: 0.399923  [13056/34560]\n",
      "loss: 0.400109  [15616/34560]\n",
      "loss: 0.362778  [18176/34560]\n",
      "loss: 0.403550  [20736/34560]\n",
      "loss: 0.369181  [23296/34560]\n",
      "loss: 0.374244  [25856/34560]\n",
      "loss: 0.323519  [28416/34560]\n",
      "loss: 0.328190  [30976/34560]\n",
      "loss: 0.352112  [33536/34560]\n",
      "Epoch Summary:\n",
      "train_loss: 0.368913, val_loss: 0.555933\n",
      "train_accuracy: 0.826215, val_accuracy: 0.746065\n",
      "Early stopping\n"
     ]
    }
   ],
   "source": [
    "N_EPOCHS = 30\n",
    "for t in range(N_EPOCHS):\n",
    "    print(f\"Epoch {t+1}\\n-------------------------------\")\n",
    "    train_loss, train_accuracy = train(model, train_loader, optimizer, loss_fn)\n",
    "    val_loss, val_accuracy = test(model, val_loader, loss_fn)\n",
    "\n",
    "    hist[\"train_loss\"].append(train_loss)\n",
    "    hist[\"train_accuracy\"].append(train_accuracy)\n",
    "    hist[\"val_loss\"].append(val_loss)\n",
    "    hist[\"val_accuracy\"].append(val_accuracy)\n",
    "    summary_writer.add_scalars(\"loss\", {\"train\": train_loss, \"val\": val_loss}, epoch)\n",
    "    summary_writer.add_scalars(\"accuracy\", {\"train\": train_accuracy, \"val\": val_accuracy}, epoch)\n",
    "\n",
    "    print(\"Epoch Summary:\")\n",
    "    print(f\"train_loss: {train_loss:>7f}, val_loss: {val_loss:>7f}\")\n",
    "    print(f\"train_accuracy: {train_accuracy:>7f}, val_accuracy: {val_accuracy:>7f}\")\n",
    "\n",
    "    save_checkpoint(epoch, model, optimizer, val_loss, val_accuracy, f\"{DATA_ROOT}/models/{timestamp}\")\n",
    "\n",
    "    if early_stopping(val_loss):\n",
    "        print(\"Early stopping\")\n",
    "        break\n",
    "    \n",
    "    epoch += 1"
   ]
  },
  {
   "cell_type": "code",
   "execution_count": 41,
   "metadata": {},
   "outputs": [
    {
     "data": {
      "image/png": "[encoded data removed]",
      "text/plain": [
       "<Figure size 640x480 with 1 Axes>"
      ]
     },
     "metadata": {},
     "output_type": "display_data"
    },
    {
     "data": {
      "image/png": "[encoded data removed]",
      "text/plain": [
       "<Figure size 640x480 with 1 Axes>"
      ]
     },
     "metadata": {},
     "output_type": "display_data"
    }
   ],
   "source": [
    "plt.plot(hist[\"train_loss\"], label=\"train_loss\")\n",
    "plt.plot(hist[\"val_loss\"], label=\"val_loss\")\n",
    "plt.title(\"Loss\")\n",
    "plt.legend()\n",
    "plt.xlabel(\"epoch\")\n",
    "plt.ylabel(\"loss\")\n",
    "plt.show()\n",
    "\n",
    "plt.plot(hist[\"train_accuracy\"], label=\"train_accuracy\")\n",
    "plt.plot(hist[\"val_accuracy\"], label=\"val_accuracy\")\n",
    "plt.title(\"Accuracy\")\n",
    "plt.legend()\n",
    "plt.xlabel(\"epoch\")\n",
    "plt.ylabel(\"accuracy\")\n",
    "plt.show()"
   ]
  },
  {
   "cell_type": "code",
   "execution_count": 48,
   "metadata": {},
   "outputs": [],
   "source": [
    "checkpoint = torch.load(f\"{DATA_ROOT}/models/{timestamp}/checkpoint_{5}.pth\")"
   ]
  },
  {
   "cell_type": "code",
   "execution_count": 49,
   "metadata": {},
   "outputs": [
    {
     "data": {
      "text/plain": [
       "<All keys matched successfully>"
      ]
     },
     "execution_count": 49,
     "metadata": {},
     "output_type": "execute_result"
    }
   ],
   "source": [
    "model.load_state_dict(checkpoint[\"model_state_dict\"])"
   ]
  },
  {
   "cell_type": "code",
   "execution_count": 51,
   "metadata": {},
   "outputs": [
    {
     "name": "stdout",
     "output_type": "stream",
     "text": [
      "Test Loss: 0.288638\n",
      "Test Accuracy: 0.885714\n"
     ]
    }
   ],
   "source": [
    "test_loss, test_accuracy = test(model, test_loader, loss_fn)\n",
    "print(f\"Test Loss: {test_loss:>7f}\")\n",
    "print(f\"Test Accuracy: {test_accuracy:>7f}\")"
   ]
  },
  {
   "cell_type": "code",
   "execution_count": 52,
   "metadata": {},
   "outputs": [],
   "source": [
    "from sklearn.metrics import classification_report"
   ]
  },
  {
   "cell_type": "code",
   "execution_count": 53,
   "metadata": {},
   "outputs": [
    {
     "data": {
      "text/plain": [
       "tensor([1, 1, 1, 1, 1, 1, 0, 1, 1, 0, 1, 1, 1, 0, 1, 0, 1, 0, 0, 0, 1, 1, 0, 1,\n",
       "        1, 0, 1, 0, 1, 1, 1, 1, 1, 1, 1, 1, 0, 1, 1, 1, 0, 1, 1, 1, 1, 1, 1, 1,\n",
       "        1, 0, 0, 1, 0, 1, 0, 1, 0, 1, 0, 1, 0, 1, 1, 1, 0, 0, 1, 1, 0, 1, 0, 1,\n",
       "        1, 1, 0, 1, 0, 1, 0, 1, 1, 1, 1, 1, 1, 1, 0, 0, 1, 1, 0, 1, 1, 1, 0, 1,\n",
       "        0, 1, 0, 1, 1, 0, 1, 0, 1, 1, 1, 1, 0, 1, 1, 1, 0, 1, 1, 0, 1, 0, 0, 0,\n",
       "        1, 0, 1, 1, 1, 1, 0, 1, 1, 1, 0, 1, 0, 1, 1, 1, 1, 0, 1, 1])"
      ]
     },
     "execution_count": 53,
     "metadata": {},
     "output_type": "execute_result"
    }
   ],
   "source": [
    "X_test, y_test = next(iter(test_loader))\n",
    "X_test = X_test.to(device)\n",
    "y_test = y_test.to(device)\n",
    "y_pred, _ = model(X_test)\n",
    "y_pred = y_pred.argmax(1)\n",
    "y_pred"
   ]
  },
  {
   "cell_type": "code",
   "execution_count": 54,
   "metadata": {},
   "outputs": [
    {
     "data": {
      "text/plain": [
       "tensor([0, 1, 1, 1, 0, 1, 0, 1, 1, 0, 1, 1, 1, 0, 1, 0, 1, 1, 0, 0, 1, 1, 1, 1,\n",
       "        1, 0, 1, 0, 1, 1, 1, 1, 1, 1, 1, 1, 0, 1, 1, 1, 0, 1, 1, 1, 1, 1, 1, 1,\n",
       "        1, 1, 1, 1, 0, 1, 0, 1, 0, 1, 0, 1, 0, 1, 1, 1, 1, 0, 1, 1, 0, 1, 1, 1,\n",
       "        1, 1, 0, 1, 0, 1, 0, 1, 1, 1, 1, 1, 1, 1, 0, 1, 1, 1, 0, 1, 1, 1, 0, 1,\n",
       "        0, 1, 0, 1, 1, 0, 1, 0, 1, 1, 1, 1, 0, 1, 1, 1, 1, 1, 1, 1, 1, 0, 1, 0,\n",
       "        0, 0, 1, 1, 1, 1, 1, 1, 1, 1, 1, 1, 0, 1, 1, 1, 1, 1, 1, 1])"
      ]
     },
     "execution_count": 54,
     "metadata": {},
     "output_type": "execute_result"
    }
   ],
   "source": [
    "y_test"
   ]
  },
  {
   "cell_type": "code",
   "execution_count": 57,
   "metadata": {},
   "outputs": [
    {
     "name": "stdout",
     "output_type": "stream",
     "text": [
      "              precision    recall  f1-score   support\n",
      "\n",
      "    negative       0.71      0.91      0.80        35\n",
      "    positive       0.97      0.88      0.92       105\n",
      "\n",
      "    accuracy                           0.89       140\n",
      "   macro avg       0.84      0.90      0.86       140\n",
      "weighted avg       0.90      0.89      0.89       140\n",
      "\n"
     ]
    }
   ],
   "source": [
    "print(classification_report(y_test.cpu().numpy(), y_pred.cpu().numpy(), target_names=[\"negative\", \"positive\"]))"
   ]
  },
  {
   "cell_type": "code",
   "execution_count": 24,
   "metadata": {},
   "outputs": [],
   "source": [
    "%load_ext tensorboard"
   ]
  },
  {
   "cell_type": "code",
   "execution_count": 25,
   "metadata": {},
   "outputs": [
    {
     "data": {
      "text/plain": [
       "Reusing TensorBoard on port 6006 (pid 26568), started 5:45:35 ago. (Use '!kill 26568' to kill it.)"
      ]
     },
     "metadata": {},
     "output_type": "display_data"
    },
    {
     "data": {
      "text/html": [
       "\n",
       "      <iframe id=\"tensorboard-frame-a9db56beb989d0a9\" width=\"100%\" height=\"800\" frameborder=\"0\">\n",
       "      </iframe>\n",
       "      <script>\n",
       "        (function() {\n",
       "          const frame = document.getElementById(\"tensorboard-frame-a9db56beb989d0a9\");\n",
       "          const url = new URL(\"http://localhost\");\n",
       "          const port = 6006;\n",
       "          if (port) {\n",
       "            url.port = port;\n",
       "          }\n",
       "          frame.src = url;\n",
       "        })();\n",
       "      </script>\n",
       "    "
      ],
      "text/plain": [
       "<IPython.core.display.HTML object>"
      ]
     },
     "metadata": {},
     "output_type": "display_data"
    }
   ],
   "source": [
    "%tensorboard --logdir ./logs/"
   ]
  },
  {
   "cell_type": "code",
   "execution_count": null,
   "metadata": {},
   "outputs": [],
   "source": []
  }
 ],
 "metadata": {
  "kernelspec": {
   "display_name": "venv",
   "language": "python",
   "name": "python3"
  },
  "language_info": {
   "codemirror_mode": {
    "name": "ipython",
    "version": 3
   },
   "file_extension": ".py",
   "mimetype": "text/x-python",
   "name": "python",
   "nbconvert_exporter": "python",
   "pygments_lexer": "ipython3",
   "version": "3.11.9"
  }
 },
 "nbformat": 4,
 "nbformat_minor": 2
}
